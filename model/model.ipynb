{
 "cells": [
  {
   "cell_type": "markdown",
   "metadata": {},
   "source": [
    "# Testing the model candidates\n",
    "\n",
    "## Base features\n",
    "\n",
    "* start time\n",
    "* end time\n",
    "* duration\n",
    "* station A ID\n",
    "* station B ID\n",
    "* user type\n",
    "* season (for future?)\n",
    "\n",
    "## Constraints\n",
    "\n",
    "Imbalanced dataset - 95% of the recorded trips are members.\n",
    "\n",
    "## Candidates\n",
    "\n",
    "1. Logistic regression\n",
    "2. Random forest"
   ]
  },
  {
   "cell_type": "code",
   "execution_count": 1,
   "metadata": {},
   "outputs": [],
   "source": [
    "import numpy as np\n",
    "import pandas as pd\n",
    "\n",
    "from sklearn.preprocessing import OneHotEncoder, LabelBinarizer\n",
    "from sklearn.model_selection import train_test_split, StratifiedKFold\n",
    "\n",
    "from sklearn.linear_model import LogisticRegression\n",
    "from sklearn.ensemble import RandomForestClassifier\n",
    "from sklearn.metrics import f1_score, roc_auc_score\n",
    "\n",
    "from sklearn.pipeline import make_pipeline"
   ]
  },
  {
   "cell_type": "markdown",
   "metadata": {},
   "source": [
    "## Loading the dataset"
   ]
  },
  {
   "cell_type": "code",
   "execution_count": 2,
   "metadata": {},
   "outputs": [
    {
     "data": {
      "text/html": [
       "<div>\n",
       "<style scoped>\n",
       "    .dataframe tbody tr th:only-of-type {\n",
       "        vertical-align: middle;\n",
       "    }\n",
       "\n",
       "    .dataframe tbody tr th {\n",
       "        vertical-align: top;\n",
       "    }\n",
       "\n",
       "    .dataframe thead th {\n",
       "        text-align: right;\n",
       "    }\n",
       "</style>\n",
       "<table border=\"1\" class=\"dataframe\">\n",
       "  <thead>\n",
       "    <tr style=\"text-align: right;\">\n",
       "      <th></th>\n",
       "      <th>trip_start_time</th>\n",
       "      <th>trip_stop_time</th>\n",
       "      <th>trip_duration_seconds</th>\n",
       "      <th>from_station_id</th>\n",
       "      <th>from_station_name</th>\n",
       "      <th>to_station_id</th>\n",
       "      <th>to_station_name</th>\n",
       "      <th>user_type</th>\n",
       "    </tr>\n",
       "    <tr>\n",
       "      <th>trip_id</th>\n",
       "      <th></th>\n",
       "      <th></th>\n",
       "      <th></th>\n",
       "      <th></th>\n",
       "      <th></th>\n",
       "      <th></th>\n",
       "      <th></th>\n",
       "      <th></th>\n",
       "    </tr>\n",
       "  </thead>\n",
       "  <tbody>\n",
       "    <tr>\n",
       "      <th>829358</th>\n",
       "      <td>10/3/2017 13:28</td>\n",
       "      <td>10/3/2017 13:40</td>\n",
       "      <td>712</td>\n",
       "      <td>7168</td>\n",
       "      <td>Queens Quay / Yonge St</td>\n",
       "      <td>7062</td>\n",
       "      <td>University Ave / College St</td>\n",
       "      <td>Member</td>\n",
       "    </tr>\n",
       "    <tr>\n",
       "      <th>767133</th>\n",
       "      <td>3/2/2017 23:53</td>\n",
       "      <td>4/2/2017 0:03</td>\n",
       "      <td>604</td>\n",
       "      <td>7069</td>\n",
       "      <td>Queen St W / Spadina Ave</td>\n",
       "      <td>7019</td>\n",
       "      <td>Temperance St / Yonge St</td>\n",
       "      <td>Member</td>\n",
       "    </tr>\n",
       "    <tr>\n",
       "      <th>792684</th>\n",
       "      <td>21/02/2017 11:01</td>\n",
       "      <td>21/02/2017 11:21</td>\n",
       "      <td>1201</td>\n",
       "      <td>7024</td>\n",
       "      <td>Dundonald St / Church St</td>\n",
       "      <td>7108</td>\n",
       "      <td>Front St E / Cherry St</td>\n",
       "      <td>Casual</td>\n",
       "    </tr>\n",
       "    <tr>\n",
       "      <th>737479</th>\n",
       "      <td>19/01/2017 13:49</td>\n",
       "      <td>19/01/2017 14:00</td>\n",
       "      <td>692</td>\n",
       "      <td>7158</td>\n",
       "      <td>King St W / Stafford St</td>\n",
       "      <td>7053</td>\n",
       "      <td>Metro Hall Plaza</td>\n",
       "      <td>Casual</td>\n",
       "    </tr>\n",
       "    <tr>\n",
       "      <th>810503</th>\n",
       "      <td>1/3/2017 2:26</td>\n",
       "      <td>1/3/2017 2:47</td>\n",
       "      <td>1301</td>\n",
       "      <td>7006</td>\n",
       "      <td>Bay St / College St (East Side)</td>\n",
       "      <td>7150</td>\n",
       "      <td>Dufferin St / Sylvan Av (Dufferin Grove Park)</td>\n",
       "      <td>Member</td>\n",
       "    </tr>\n",
       "  </tbody>\n",
       "</table>\n",
       "</div>"
      ],
      "text/plain": [
       "          trip_start_time    trip_stop_time  trip_duration_seconds  \\\n",
       "trip_id                                                              \n",
       "829358    10/3/2017 13:28   10/3/2017 13:40                    712   \n",
       "767133     3/2/2017 23:53     4/2/2017 0:03                    604   \n",
       "792684   21/02/2017 11:01  21/02/2017 11:21                   1201   \n",
       "737479   19/01/2017 13:49  19/01/2017 14:00                    692   \n",
       "810503      1/3/2017 2:26     1/3/2017 2:47                   1301   \n",
       "\n",
       "         from_station_id                from_station_name  to_station_id  \\\n",
       "trip_id                                                                    \n",
       "829358              7168           Queens Quay / Yonge St           7062   \n",
       "767133              7069         Queen St W / Spadina Ave           7019   \n",
       "792684              7024         Dundonald St / Church St           7108   \n",
       "737479              7158          King St W / Stafford St           7053   \n",
       "810503              7006  Bay St / College St (East Side)           7150   \n",
       "\n",
       "                                       to_station_name user_type  \n",
       "trip_id                                                           \n",
       "829358                     University Ave / College St    Member  \n",
       "767133                        Temperance St / Yonge St    Member  \n",
       "792684                          Front St E / Cherry St    Casual  \n",
       "737479                                Metro Hall Plaza    Casual  \n",
       "810503   Dufferin St / Sylvan Av (Dufferin Grove Park)    Member  "
      ]
     },
     "execution_count": 2,
     "metadata": {},
     "output_type": "execute_result"
    }
   ],
   "source": [
    "from pathlib import Path\n",
    "\n",
    "csv_path = Path.cwd().parent / 'data' / 'bikeshare-2017-q1.csv'\n",
    "bikes = pd.read_csv(csv_path, index_col='trip_id')\n",
    "\n",
    "bikes.sample(5)"
   ]
  },
  {
   "cell_type": "code",
   "execution_count": 5,
   "metadata": {},
   "outputs": [
    {
     "data": {
      "text/plain": [
       "trip_start_time          object\n",
       "trip_stop_time           object\n",
       "trip_duration_seconds     int64\n",
       "from_station_id           int64\n",
       "from_station_name        object\n",
       "to_station_id             int64\n",
       "to_station_name          object\n",
       "user_type                object\n",
       "dtype: object"
      ]
     },
     "execution_count": 5,
     "metadata": {},
     "output_type": "execute_result"
    }
   ],
   "source": [
    "bikes.dtypes"
   ]
  },
  {
   "cell_type": "markdown",
   "metadata": {},
   "source": [
    "## Preprocessing\n",
    "\n",
    "1. start/stop time should be converted to two fields: day of week and time of day\n",
    "    * future dev: sync the date with public holiday calendar, i.e. an extra field indicating whether that day is a public holiday\n",
    "2. station_id are basically encoded station names and so:\n",
    "    * station names can be dropped\n",
    "    * station_id should be one-hot encoded to be treated as categoricals\n",
    "3. user_type should convert to 1/0: 1 for member, 0 for casual"
   ]
  },
  {
   "cell_type": "code",
   "execution_count": 5,
   "metadata": {},
   "outputs": [
    {
     "name": "stdout",
     "output_type": "stream",
     "text": [
      "<class 'pandas.core.series.Series'>\n",
      "Int64Index: 5 entries, 824695 to 801667\n",
      "Series name: trip_start_time\n",
      "Non-Null Count  Dtype \n",
      "--------------  ----- \n",
      "5 non-null      object\n",
      "dtypes: object(1)\n",
      "memory usage: 80.0+ bytes\n",
      "None\n",
      "<class 'pandas.core.series.Series'>\n",
      "Int64Index: 5 entries, 824695 to 801667\n",
      "Series name: trip_start_time\n",
      "Non-Null Count  Dtype         \n",
      "--------------  -----         \n",
      "5 non-null      datetime64[ns]\n",
      "dtypes: datetime64[ns](1)\n",
      "memory usage: 80.0 bytes\n",
      "None\n"
     ]
    }
   ],
   "source": [
    "df = bikes.sample(5)\n",
    "datetimes = df['trip_start_time']\n",
    "# can't convert two columns at the same time; method assumes that each column\n",
    "# represents a year/month/day column in a dataframe???\n",
    "# datetimes = df[['trip_start_time', 'trip_stop_time']]\n",
    "print(datetimes.info())\n",
    "dt = pd.to_datetime(\n",
    "    datetimes,\n",
    "    # format=\"%d/%m/%Y %H:%M\",\n",
    "    infer_datetime_format=True,\n",
    ")\n",
    "print(dt.info())"
   ]
  },
  {
   "cell_type": "code",
   "execution_count": 23,
   "metadata": {},
   "outputs": [
    {
     "name": "stdout",
     "output_type": "stream",
     "text": [
      "2017-01-13 23:05:00\n"
     ]
    }
   ],
   "source": [
    "print(dt.iloc[0])"
   ]
  },
  {
   "cell_type": "code",
   "execution_count": 20,
   "metadata": {},
   "outputs": [
    {
     "data": {
      "text/plain": [
       "4"
      ]
     },
     "execution_count": 20,
     "metadata": {},
     "output_type": "execute_result"
    }
   ],
   "source": [
    "dt.iloc[0].day_of_week"
   ]
  },
  {
   "cell_type": "code",
   "execution_count": 37,
   "metadata": {},
   "outputs": [
    {
     "name": "stdout",
     "output_type": "stream",
     "text": [
      "23 5\n"
     ]
    }
   ],
   "source": [
    "print(dt.iloc[0].hour, dt.iloc[0].minute)"
   ]
  },
  {
   "cell_type": "code",
   "execution_count": 15,
   "metadata": {},
   "outputs": [],
   "source": [
    "def prep_bikes(df_bikes):\n",
    "    \"\"\"Preprocesses the bikeshare data\n",
    "    \n",
    "    Converts the datetimes from str obj to datetime objects\n",
    "    \"\"\"\n",
    "    df_bikes['dt_start'] = pd.to_datetime(\n",
    "        df_bikes['trip_start_time'],\n",
    "        infer_datetime_format=True,\n",
    "    )\n",
    "    df_bikes['dt_end'] = pd.to_datetime(\n",
    "        df_bikes['trip_stop_time'],\n",
    "        infer_datetime_format=True,\n",
    "    )\n",
    "    # get day of week\n",
    "    def get_day_of_week(trip):\n",
    "        return trip['dt_start'].day_of_week\n",
    "\n",
    "    df_bikes['day_of_week'] = df_bikes.apply(\n",
    "        # get_day_of_week,\n",
    "        lambda x: x['dt_start'].day_of_week,\n",
    "        axis=1\n",
    "    )\n",
    "    \n",
    "    # get hours\n",
    "    df_bikes['start_hour'] = df_bikes.apply(\n",
    "        lambda x: x['dt_start'].hour + x['dt_start'].minute / 60,\n",
    "        axis=1,\n",
    "    )\n",
    "    df_bikes['end_hour'] = df_bikes.apply(\n",
    "        lambda x: x['dt_end'].hour + x['dt_end'].minute / 60,\n",
    "        axis=1,\n",
    "    )\n",
    "    drops = [\n",
    "        'trip_start_time', \n",
    "        'trip_stop_time', \n",
    "        'from_station_name', \n",
    "        'to_station_name',\n",
    "        'dt_start',\n",
    "        'dt_end',\n",
    "        'user_type',\n",
    "        ]\n",
    "    df_bikes = df_bikes.drop(drops, axis=1)\n",
    "    return df_bikes\n"
   ]
  },
  {
   "cell_type": "code",
   "execution_count": 6,
   "metadata": {},
   "outputs": [],
   "source": [
    "prepped = prep_bikes(df)"
   ]
  },
  {
   "cell_type": "markdown",
   "metadata": {},
   "source": [
    "Steps 2 and 3 involve encoding the features and so will be part of the `sklearn` pipeline."
   ]
  },
  {
   "cell_type": "code",
   "execution_count": 60,
   "metadata": {},
   "outputs": [
    {
     "data": {
      "text/plain": [
       "array([[1, 0, 0, 0, 0, 0, 1, 0, 0, 0],\n",
       "       [0, 0, 0, 1, 0, 0, 0, 1, 0, 0],\n",
       "       [0, 1, 0, 0, 0, 0, 0, 0, 1, 0],\n",
       "       [0, 0, 1, 0, 0, 0, 0, 0, 0, 1],\n",
       "       [0, 0, 0, 0, 1, 1, 0, 0, 0, 0]])"
      ]
     },
     "execution_count": 60,
     "metadata": {},
     "output_type": "execute_result"
    }
   ],
   "source": [
    "enc = OneHotEncoder(dtype=int)\n",
    "station_ids_cols = ['from_station_id', 'to_station_id']\n",
    "station_ids = prepped[station_ids_cols]\n",
    "\n",
    "enc.fit_transform(station_ids,).toarray()\n"
   ]
  },
  {
   "cell_type": "code",
   "execution_count": 88,
   "metadata": {},
   "outputs": [
    {
     "data": {
      "text/plain": [
       "array(['from_station_id_7061', 'from_station_id_7124',\n",
       "       'from_station_id_7158', 'from_station_id_7161',\n",
       "       'from_station_id_7202', 'to_station_id_7049', 'to_station_id_7055',\n",
       "       'to_station_id_7057', 'to_station_id_7064', 'to_station_id_7176'],\n",
       "      dtype=object)"
      ]
     },
     "execution_count": 88,
     "metadata": {},
     "output_type": "execute_result"
    }
   ],
   "source": [
    "enc.get_feature_names_out()"
   ]
  },
  {
   "cell_type": "code",
   "execution_count": 89,
   "metadata": {},
   "outputs": [
    {
     "data": {
      "text/html": [
       "<div>\n",
       "<style scoped>\n",
       "    .dataframe tbody tr th:only-of-type {\n",
       "        vertical-align: middle;\n",
       "    }\n",
       "\n",
       "    .dataframe tbody tr th {\n",
       "        vertical-align: top;\n",
       "    }\n",
       "\n",
       "    .dataframe thead th {\n",
       "        text-align: right;\n",
       "    }\n",
       "</style>\n",
       "<table border=\"1\" class=\"dataframe\">\n",
       "  <thead>\n",
       "    <tr style=\"text-align: right;\">\n",
       "      <th></th>\n",
       "      <th>from_station_id_7061</th>\n",
       "      <th>from_station_id_7124</th>\n",
       "      <th>from_station_id_7158</th>\n",
       "      <th>from_station_id_7161</th>\n",
       "      <th>from_station_id_7202</th>\n",
       "      <th>to_station_id_7049</th>\n",
       "      <th>to_station_id_7055</th>\n",
       "      <th>to_station_id_7057</th>\n",
       "      <th>to_station_id_7064</th>\n",
       "      <th>to_station_id_7176</th>\n",
       "    </tr>\n",
       "  </thead>\n",
       "  <tbody>\n",
       "    <tr>\n",
       "      <th>0</th>\n",
       "      <td>1</td>\n",
       "      <td>0</td>\n",
       "      <td>0</td>\n",
       "      <td>0</td>\n",
       "      <td>0</td>\n",
       "      <td>0</td>\n",
       "      <td>1</td>\n",
       "      <td>0</td>\n",
       "      <td>0</td>\n",
       "      <td>0</td>\n",
       "    </tr>\n",
       "    <tr>\n",
       "      <th>1</th>\n",
       "      <td>0</td>\n",
       "      <td>0</td>\n",
       "      <td>0</td>\n",
       "      <td>1</td>\n",
       "      <td>0</td>\n",
       "      <td>0</td>\n",
       "      <td>0</td>\n",
       "      <td>1</td>\n",
       "      <td>0</td>\n",
       "      <td>0</td>\n",
       "    </tr>\n",
       "    <tr>\n",
       "      <th>2</th>\n",
       "      <td>0</td>\n",
       "      <td>1</td>\n",
       "      <td>0</td>\n",
       "      <td>0</td>\n",
       "      <td>0</td>\n",
       "      <td>0</td>\n",
       "      <td>0</td>\n",
       "      <td>0</td>\n",
       "      <td>1</td>\n",
       "      <td>0</td>\n",
       "    </tr>\n",
       "    <tr>\n",
       "      <th>3</th>\n",
       "      <td>0</td>\n",
       "      <td>0</td>\n",
       "      <td>1</td>\n",
       "      <td>0</td>\n",
       "      <td>0</td>\n",
       "      <td>0</td>\n",
       "      <td>0</td>\n",
       "      <td>0</td>\n",
       "      <td>0</td>\n",
       "      <td>1</td>\n",
       "    </tr>\n",
       "    <tr>\n",
       "      <th>4</th>\n",
       "      <td>0</td>\n",
       "      <td>0</td>\n",
       "      <td>0</td>\n",
       "      <td>0</td>\n",
       "      <td>1</td>\n",
       "      <td>1</td>\n",
       "      <td>0</td>\n",
       "      <td>0</td>\n",
       "      <td>0</td>\n",
       "      <td>0</td>\n",
       "    </tr>\n",
       "  </tbody>\n",
       "</table>\n",
       "</div>"
      ],
      "text/plain": [
       "   from_station_id_7061  from_station_id_7124  from_station_id_7158  \\\n",
       "0                     1                     0                     0   \n",
       "1                     0                     0                     0   \n",
       "2                     0                     1                     0   \n",
       "3                     0                     0                     1   \n",
       "4                     0                     0                     0   \n",
       "\n",
       "   from_station_id_7161  from_station_id_7202  to_station_id_7049  \\\n",
       "0                     0                     0                   0   \n",
       "1                     1                     0                   0   \n",
       "2                     0                     0                   0   \n",
       "3                     0                     0                   0   \n",
       "4                     0                     1                   1   \n",
       "\n",
       "   to_station_id_7055  to_station_id_7057  to_station_id_7064  \\\n",
       "0                   1                   0                   0   \n",
       "1                   0                   1                   0   \n",
       "2                   0                   0                   1   \n",
       "3                   0                   0                   0   \n",
       "4                   0                   0                   0   \n",
       "\n",
       "   to_station_id_7176  \n",
       "0                   0  \n",
       "1                   0  \n",
       "2                   0  \n",
       "3                   1  \n",
       "4                   0  "
      ]
     },
     "execution_count": 89,
     "metadata": {},
     "output_type": "execute_result"
    }
   ],
   "source": [
    "pd.DataFrame(enc.fit_transform(station_ids).toarray(), \n",
    "            columns=enc.get_feature_names_out())"
   ]
  },
  {
   "cell_type": "code",
   "execution_count": 46,
   "metadata": {},
   "outputs": [
    {
     "data": {
      "text/html": [
       "<div>\n",
       "<style scoped>\n",
       "    .dataframe tbody tr th:only-of-type {\n",
       "        vertical-align: middle;\n",
       "    }\n",
       "\n",
       "    .dataframe tbody tr th {\n",
       "        vertical-align: top;\n",
       "    }\n",
       "\n",
       "    .dataframe thead th {\n",
       "        text-align: right;\n",
       "    }\n",
       "</style>\n",
       "<table border=\"1\" class=\"dataframe\">\n",
       "  <thead>\n",
       "    <tr style=\"text-align: right;\">\n",
       "      <th></th>\n",
       "      <th>from_station_id</th>\n",
       "      <th>to_station_id</th>\n",
       "    </tr>\n",
       "    <tr>\n",
       "      <th>trip_id</th>\n",
       "      <th></th>\n",
       "      <th></th>\n",
       "    </tr>\n",
       "  </thead>\n",
       "  <tbody>\n",
       "    <tr>\n",
       "      <th>729152</th>\n",
       "      <td>7061</td>\n",
       "      <td>7055</td>\n",
       "    </tr>\n",
       "    <tr>\n",
       "      <th>806425</th>\n",
       "      <td>7161</td>\n",
       "      <td>7057</td>\n",
       "    </tr>\n",
       "    <tr>\n",
       "      <th>823936</th>\n",
       "      <td>7124</td>\n",
       "      <td>7064</td>\n",
       "    </tr>\n",
       "    <tr>\n",
       "      <th>738827</th>\n",
       "      <td>7158</td>\n",
       "      <td>7176</td>\n",
       "    </tr>\n",
       "    <tr>\n",
       "      <th>812654</th>\n",
       "      <td>7202</td>\n",
       "      <td>7049</td>\n",
       "    </tr>\n",
       "  </tbody>\n",
       "</table>\n",
       "</div>"
      ],
      "text/plain": [
       "         from_station_id  to_station_id\n",
       "trip_id                                \n",
       "729152              7061           7055\n",
       "806425              7161           7057\n",
       "823936              7124           7064\n",
       "738827              7158           7176\n",
       "812654              7202           7049"
      ]
     },
     "execution_count": 46,
     "metadata": {},
     "output_type": "execute_result"
    }
   ],
   "source": [
    "station_ids"
   ]
  },
  {
   "cell_type": "code",
   "execution_count": 100,
   "metadata": {},
   "outputs": [
    {
     "data": {
      "text/plain": [
       "array([[0],\n",
       "       [0],\n",
       "       [0],\n",
       "       [0],\n",
       "       [0]])"
      ]
     },
     "execution_count": 100,
     "metadata": {},
     "output_type": "execute_result"
    }
   ],
   "source": [
    "label_enc = LabelBinarizer()\n",
    "y = label_enc.fit_transform(prepped['user_type'])\n",
    "y"
   ]
  },
  {
   "cell_type": "code",
   "execution_count": 87,
   "metadata": {},
   "outputs": [
    {
     "data": {
      "text/plain": [
       "array(['Member', 'Member', 'Member', 'Member', 'Member'], dtype=object)"
      ]
     },
     "execution_count": 87,
     "metadata": {},
     "output_type": "execute_result"
    }
   ],
   "source": [
    "inv_y = label_enc.inverse_transform(y)\n",
    "inv_y"
   ]
  },
  {
   "cell_type": "code",
   "execution_count": null,
   "metadata": {},
   "outputs": [],
   "source": [
    "bikes_dt = prep_bikes(bikes)"
   ]
  },
  {
   "cell_type": "code",
   "execution_count": 79,
   "metadata": {},
   "outputs": [
    {
     "data": {
      "text/plain": [
       "Index(['trip_duration_seconds', 'from_station_id', 'to_station_id',\n",
       "       'user_type', 'day_of_week', 'start_hour', 'end_hour'],\n",
       "      dtype='object')"
      ]
     },
     "execution_count": 79,
     "metadata": {},
     "output_type": "execute_result"
    }
   ],
   "source": [
    "# drop datetime columns to avoid passthrough error when using ColumnTransformer\n",
    "# bikes_dt = bikes_dt.drop(['dt_start', 'dt_end'], axis=1)\n",
    "bikes_dt.columns"
   ]
  },
  {
   "cell_type": "code",
   "execution_count": null,
   "metadata": {},
   "outputs": [],
   "source": [
    "# testing how stratify= works in train split\n",
    "\n",
    "X, y = np.ones((50, 1)), np.hstack(([0] * 45, [1] * 5))\n",
    "X_train, X_test, y_train, y_test = train_test_split(\n",
    "    X, y,\n",
    "    test_size=0.25,\n",
    "    stratify=y,\n",
    "    )\n"
   ]
  },
  {
   "cell_type": "code",
   "execution_count": 9,
   "metadata": {},
   "outputs": [
    {
     "data": {
      "text/html": [
       "<div>\n",
       "<style scoped>\n",
       "    .dataframe tbody tr th:only-of-type {\n",
       "        vertical-align: middle;\n",
       "    }\n",
       "\n",
       "    .dataframe tbody tr th {\n",
       "        vertical-align: top;\n",
       "    }\n",
       "\n",
       "    .dataframe thead th {\n",
       "        text-align: right;\n",
       "    }\n",
       "</style>\n",
       "<table border=\"1\" class=\"dataframe\">\n",
       "  <thead>\n",
       "    <tr style=\"text-align: right;\">\n",
       "      <th></th>\n",
       "      <th>trip_start_time</th>\n",
       "      <th>trip_stop_time</th>\n",
       "      <th>trip_duration_seconds</th>\n",
       "      <th>from_station_id</th>\n",
       "      <th>from_station_name</th>\n",
       "      <th>to_station_id</th>\n",
       "      <th>to_station_name</th>\n",
       "      <th>user_type</th>\n",
       "    </tr>\n",
       "    <tr>\n",
       "      <th>trip_id</th>\n",
       "      <th></th>\n",
       "      <th></th>\n",
       "      <th></th>\n",
       "      <th></th>\n",
       "      <th></th>\n",
       "      <th></th>\n",
       "      <th></th>\n",
       "      <th></th>\n",
       "    </tr>\n",
       "  </thead>\n",
       "  <tbody>\n",
       "    <tr>\n",
       "      <th>750034</th>\n",
       "      <td>25/01/2017 14:47</td>\n",
       "      <td>25/01/2017 14:57</td>\n",
       "      <td>608</td>\n",
       "      <td>7011</td>\n",
       "      <td>Wellington St W / Portland St</td>\n",
       "      <td>7039</td>\n",
       "      <td>Simcoe St / Dundas St W</td>\n",
       "      <td>Member</td>\n",
       "    </tr>\n",
       "    <tr>\n",
       "      <th>765640</th>\n",
       "      <td>3/2/2017 11:40</td>\n",
       "      <td>3/2/2017 11:49</td>\n",
       "      <td>547</td>\n",
       "      <td>7033</td>\n",
       "      <td>Union Station</td>\n",
       "      <td>7047</td>\n",
       "      <td>University Ave / Gerrard St W</td>\n",
       "      <td>Member</td>\n",
       "    </tr>\n",
       "    <tr>\n",
       "      <th>799305</th>\n",
       "      <td>23/02/2017 20:38</td>\n",
       "      <td>23/02/2017 20:57</td>\n",
       "      <td>1164</td>\n",
       "      <td>7194</td>\n",
       "      <td>Mortimer Ave / Coxwell Ave</td>\n",
       "      <td>7117</td>\n",
       "      <td>Castle Frank Station</td>\n",
       "      <td>Member</td>\n",
       "    </tr>\n",
       "    <tr>\n",
       "      <th>847203</th>\n",
       "      <td>21/03/2017 21:31</td>\n",
       "      <td>21/03/2017 21:38</td>\n",
       "      <td>465</td>\n",
       "      <td>7039</td>\n",
       "      <td>Simcoe St / Dundas St W</td>\n",
       "      <td>7043</td>\n",
       "      <td>Queens Quay W / Lower Simcoe St</td>\n",
       "      <td>Member</td>\n",
       "    </tr>\n",
       "    <tr>\n",
       "      <th>744464</th>\n",
       "      <td>22/01/2017 23:35</td>\n",
       "      <td>22/01/2017 23:37</td>\n",
       "      <td>140</td>\n",
       "      <td>7059</td>\n",
       "      <td>Front St W / Blue Jays Way</td>\n",
       "      <td>7059</td>\n",
       "      <td>Front St W / Blue Jays Way</td>\n",
       "      <td>Member</td>\n",
       "    </tr>\n",
       "    <tr>\n",
       "      <th>843416</th>\n",
       "      <td>20/03/2017 18:09</td>\n",
       "      <td>20/03/2017 18:28</td>\n",
       "      <td>1143</td>\n",
       "      <td>7035</td>\n",
       "      <td>Queen St W / Ossington Ave</td>\n",
       "      <td>7010</td>\n",
       "      <td>King St W / Spadina Ave</td>\n",
       "      <td>Member</td>\n",
       "    </tr>\n",
       "    <tr>\n",
       "      <th>836619</th>\n",
       "      <td>16/03/2017 18:11</td>\n",
       "      <td>16/03/2017 18:29</td>\n",
       "      <td>1074</td>\n",
       "      <td>7066</td>\n",
       "      <td>Willcocks St / St. George St</td>\n",
       "      <td>7071</td>\n",
       "      <td>161 Bleecker St (South of Wellesley)</td>\n",
       "      <td>Member</td>\n",
       "    </tr>\n",
       "    <tr>\n",
       "      <th>764015</th>\n",
       "      <td>2/2/2017 14:11</td>\n",
       "      <td>2/2/2017 14:21</td>\n",
       "      <td>634</td>\n",
       "      <td>7100</td>\n",
       "      <td>Dundas St E / Regent Park Blvd</td>\n",
       "      <td>7012</td>\n",
       "      <td>Elizabeth St / Edward St (Bus Terminal)</td>\n",
       "      <td>Member</td>\n",
       "    </tr>\n",
       "    <tr>\n",
       "      <th>832733</th>\n",
       "      <td>13/03/2017 12:48</td>\n",
       "      <td>13/03/2017 12:58</td>\n",
       "      <td>637</td>\n",
       "      <td>7032</td>\n",
       "      <td>Augusta Ave / Dundas St W</td>\n",
       "      <td>7005</td>\n",
       "      <td>University Ave / King St W</td>\n",
       "      <td>Member</td>\n",
       "    </tr>\n",
       "    <tr>\n",
       "      <th>772565</th>\n",
       "      <td>8/2/2017 3:34</td>\n",
       "      <td>8/2/2017 3:54</td>\n",
       "      <td>1168</td>\n",
       "      <td>7035</td>\n",
       "      <td>Queen St W / Ossington Ave</td>\n",
       "      <td>7007</td>\n",
       "      <td>College St W / Huron St</td>\n",
       "      <td>Member</td>\n",
       "    </tr>\n",
       "    <tr>\n",
       "      <th>788261</th>\n",
       "      <td>18/02/2017 19:17</td>\n",
       "      <td>18/02/2017 19:43</td>\n",
       "      <td>1513</td>\n",
       "      <td>7113</td>\n",
       "      <td>Parliament St / Aberdeen Ave</td>\n",
       "      <td>7208</td>\n",
       "      <td>80 Clinton St (North of College)</td>\n",
       "      <td>Casual</td>\n",
       "    </tr>\n",
       "    <tr>\n",
       "      <th>812322</th>\n",
       "      <td>1/3/2017 22:21</td>\n",
       "      <td>1/3/2017 22:26</td>\n",
       "      <td>272</td>\n",
       "      <td>7162</td>\n",
       "      <td>Hayter St / Laplante Ave</td>\n",
       "      <td>7021</td>\n",
       "      <td>Bay St / Albert St</td>\n",
       "      <td>Member</td>\n",
       "    </tr>\n",
       "    <tr>\n",
       "      <th>849575</th>\n",
       "      <td>22/03/2017 21:54</td>\n",
       "      <td>22/03/2017 22:10</td>\n",
       "      <td>958</td>\n",
       "      <td>7104</td>\n",
       "      <td>King St E / River St</td>\n",
       "      <td>7013</td>\n",
       "      <td>Scott St / The Esplanade</td>\n",
       "      <td>Member</td>\n",
       "    </tr>\n",
       "    <tr>\n",
       "      <th>780048</th>\n",
       "      <td>14/02/2017 3:05</td>\n",
       "      <td>14/02/2017 3:15</td>\n",
       "      <td>604</td>\n",
       "      <td>7177</td>\n",
       "      <td>East Liberty St / Pirandello St</td>\n",
       "      <td>7000</td>\n",
       "      <td>Fort York  Blvd / Capreol Crt</td>\n",
       "      <td>Casual</td>\n",
       "    </tr>\n",
       "    <tr>\n",
       "      <th>721144</th>\n",
       "      <td>9/1/2017 13:04</td>\n",
       "      <td>9/1/2017 13:11</td>\n",
       "      <td>434</td>\n",
       "      <td>7048</td>\n",
       "      <td>Front St / Yonge St (Hockey Hall of Fame)</td>\n",
       "      <td>7060</td>\n",
       "      <td>Princess St / Adelaide St</td>\n",
       "      <td>Member</td>\n",
       "    </tr>\n",
       "    <tr>\n",
       "      <th>718137</th>\n",
       "      <td>5/1/2017 23:56</td>\n",
       "      <td>6/1/2017 0:15</td>\n",
       "      <td>1148</td>\n",
       "      <td>7128</td>\n",
       "      <td>Yonge St / Aylmer Ave</td>\n",
       "      <td>7101</td>\n",
       "      <td>Lower Sherbourne St / The Esplanade</td>\n",
       "      <td>Member</td>\n",
       "    </tr>\n",
       "    <tr>\n",
       "      <th>797904</th>\n",
       "      <td>23/02/2017 13:15</td>\n",
       "      <td>23/02/2017 13:28</td>\n",
       "      <td>796</td>\n",
       "      <td>7059</td>\n",
       "      <td>Front St W / Blue Jays Way</td>\n",
       "      <td>7062</td>\n",
       "      <td>University Ave / College St</td>\n",
       "      <td>Member</td>\n",
       "    </tr>\n",
       "    <tr>\n",
       "      <th>723864</th>\n",
       "      <td>11/1/2017 14:36</td>\n",
       "      <td>11/1/2017 14:44</td>\n",
       "      <td>469</td>\n",
       "      <td>7039</td>\n",
       "      <td>Simcoe St / Dundas St W</td>\n",
       "      <td>7066</td>\n",
       "      <td>Willcocks St / St. George St</td>\n",
       "      <td>Member</td>\n",
       "    </tr>\n",
       "    <tr>\n",
       "      <th>781272</th>\n",
       "      <td>14/02/2017 22:09</td>\n",
       "      <td>14/02/2017 22:18</td>\n",
       "      <td>546</td>\n",
       "      <td>7063</td>\n",
       "      <td>Queens Park / Bloor St W</td>\n",
       "      <td>7021</td>\n",
       "      <td>Bay St / Albert St</td>\n",
       "      <td>Member</td>\n",
       "    </tr>\n",
       "    <tr>\n",
       "      <th>739106</th>\n",
       "      <td>19/01/2017 23:18</td>\n",
       "      <td>19/01/2017 23:40</td>\n",
       "      <td>1303</td>\n",
       "      <td>7033</td>\n",
       "      <td>Union Station</td>\n",
       "      <td>7061</td>\n",
       "      <td>Bloor St / Brunswick Ave</td>\n",
       "      <td>Member</td>\n",
       "    </tr>\n",
       "  </tbody>\n",
       "</table>\n",
       "</div>"
      ],
      "text/plain": [
       "          trip_start_time    trip_stop_time  trip_duration_seconds  \\\n",
       "trip_id                                                              \n",
       "750034   25/01/2017 14:47  25/01/2017 14:57                    608   \n",
       "765640     3/2/2017 11:40    3/2/2017 11:49                    547   \n",
       "799305   23/02/2017 20:38  23/02/2017 20:57                   1164   \n",
       "847203   21/03/2017 21:31  21/03/2017 21:38                    465   \n",
       "744464   22/01/2017 23:35  22/01/2017 23:37                    140   \n",
       "843416   20/03/2017 18:09  20/03/2017 18:28                   1143   \n",
       "836619   16/03/2017 18:11  16/03/2017 18:29                   1074   \n",
       "764015     2/2/2017 14:11    2/2/2017 14:21                    634   \n",
       "832733   13/03/2017 12:48  13/03/2017 12:58                    637   \n",
       "772565      8/2/2017 3:34     8/2/2017 3:54                   1168   \n",
       "788261   18/02/2017 19:17  18/02/2017 19:43                   1513   \n",
       "812322     1/3/2017 22:21    1/3/2017 22:26                    272   \n",
       "849575   22/03/2017 21:54  22/03/2017 22:10                    958   \n",
       "780048    14/02/2017 3:05   14/02/2017 3:15                    604   \n",
       "721144     9/1/2017 13:04    9/1/2017 13:11                    434   \n",
       "718137     5/1/2017 23:56     6/1/2017 0:15                   1148   \n",
       "797904   23/02/2017 13:15  23/02/2017 13:28                    796   \n",
       "723864    11/1/2017 14:36   11/1/2017 14:44                    469   \n",
       "781272   14/02/2017 22:09  14/02/2017 22:18                    546   \n",
       "739106   19/01/2017 23:18  19/01/2017 23:40                   1303   \n",
       "\n",
       "         from_station_id                          from_station_name  \\\n",
       "trip_id                                                               \n",
       "750034              7011              Wellington St W / Portland St   \n",
       "765640              7033                              Union Station   \n",
       "799305              7194                 Mortimer Ave / Coxwell Ave   \n",
       "847203              7039                    Simcoe St / Dundas St W   \n",
       "744464              7059                 Front St W / Blue Jays Way   \n",
       "843416              7035                 Queen St W / Ossington Ave   \n",
       "836619              7066               Willcocks St / St. George St   \n",
       "764015              7100             Dundas St E / Regent Park Blvd   \n",
       "832733              7032                  Augusta Ave / Dundas St W   \n",
       "772565              7035                 Queen St W / Ossington Ave   \n",
       "788261              7113               Parliament St / Aberdeen Ave   \n",
       "812322              7162                   Hayter St / Laplante Ave   \n",
       "849575              7104                       King St E / River St   \n",
       "780048              7177            East Liberty St / Pirandello St   \n",
       "721144              7048  Front St / Yonge St (Hockey Hall of Fame)   \n",
       "718137              7128                      Yonge St / Aylmer Ave   \n",
       "797904              7059                 Front St W / Blue Jays Way   \n",
       "723864              7039                    Simcoe St / Dundas St W   \n",
       "781272              7063                   Queens Park / Bloor St W   \n",
       "739106              7033                              Union Station   \n",
       "\n",
       "         to_station_id                          to_station_name user_type  \n",
       "trip_id                                                                    \n",
       "750034            7039                  Simcoe St / Dundas St W    Member  \n",
       "765640            7047            University Ave / Gerrard St W    Member  \n",
       "799305            7117                     Castle Frank Station    Member  \n",
       "847203            7043          Queens Quay W / Lower Simcoe St    Member  \n",
       "744464            7059               Front St W / Blue Jays Way    Member  \n",
       "843416            7010                  King St W / Spadina Ave    Member  \n",
       "836619            7071     161 Bleecker St (South of Wellesley)    Member  \n",
       "764015            7012  Elizabeth St / Edward St (Bus Terminal)    Member  \n",
       "832733            7005               University Ave / King St W    Member  \n",
       "772565            7007                  College St W / Huron St    Member  \n",
       "788261            7208         80 Clinton St (North of College)    Casual  \n",
       "812322            7021                       Bay St / Albert St    Member  \n",
       "849575            7013                 Scott St / The Esplanade    Member  \n",
       "780048            7000            Fort York  Blvd / Capreol Crt    Casual  \n",
       "721144            7060                Princess St / Adelaide St    Member  \n",
       "718137            7101      Lower Sherbourne St / The Esplanade    Member  \n",
       "797904            7062              University Ave / College St    Member  \n",
       "723864            7066             Willcocks St / St. George St    Member  \n",
       "781272            7021                       Bay St / Albert St    Member  \n",
       "739106            7061                 Bloor St / Brunswick Ave    Member  "
      ]
     },
     "execution_count": 9,
     "metadata": {},
     "output_type": "execute_result"
    }
   ],
   "source": [
    "bikes_samp = bikes.sample(20)\n",
    "bikes_samp"
   ]
  },
  {
   "cell_type": "code",
   "execution_count": 16,
   "metadata": {},
   "outputs": [
    {
     "data": {
      "text/html": [
       "<div>\n",
       "<style scoped>\n",
       "    .dataframe tbody tr th:only-of-type {\n",
       "        vertical-align: middle;\n",
       "    }\n",
       "\n",
       "    .dataframe tbody tr th {\n",
       "        vertical-align: top;\n",
       "    }\n",
       "\n",
       "    .dataframe thead th {\n",
       "        text-align: right;\n",
       "    }\n",
       "</style>\n",
       "<table border=\"1\" class=\"dataframe\">\n",
       "  <thead>\n",
       "    <tr style=\"text-align: right;\">\n",
       "      <th></th>\n",
       "      <th>user_type</th>\n",
       "      <th>target</th>\n",
       "    </tr>\n",
       "    <tr>\n",
       "      <th>trip_id</th>\n",
       "      <th></th>\n",
       "      <th></th>\n",
       "    </tr>\n",
       "  </thead>\n",
       "  <tbody>\n",
       "    <tr>\n",
       "      <th>750034</th>\n",
       "      <td>Member</td>\n",
       "      <td>True</td>\n",
       "    </tr>\n",
       "    <tr>\n",
       "      <th>765640</th>\n",
       "      <td>Member</td>\n",
       "      <td>True</td>\n",
       "    </tr>\n",
       "    <tr>\n",
       "      <th>799305</th>\n",
       "      <td>Member</td>\n",
       "      <td>True</td>\n",
       "    </tr>\n",
       "    <tr>\n",
       "      <th>847203</th>\n",
       "      <td>Member</td>\n",
       "      <td>True</td>\n",
       "    </tr>\n",
       "    <tr>\n",
       "      <th>744464</th>\n",
       "      <td>Member</td>\n",
       "      <td>True</td>\n",
       "    </tr>\n",
       "    <tr>\n",
       "      <th>843416</th>\n",
       "      <td>Member</td>\n",
       "      <td>True</td>\n",
       "    </tr>\n",
       "    <tr>\n",
       "      <th>836619</th>\n",
       "      <td>Member</td>\n",
       "      <td>True</td>\n",
       "    </tr>\n",
       "    <tr>\n",
       "      <th>764015</th>\n",
       "      <td>Member</td>\n",
       "      <td>True</td>\n",
       "    </tr>\n",
       "    <tr>\n",
       "      <th>832733</th>\n",
       "      <td>Member</td>\n",
       "      <td>True</td>\n",
       "    </tr>\n",
       "    <tr>\n",
       "      <th>772565</th>\n",
       "      <td>Member</td>\n",
       "      <td>True</td>\n",
       "    </tr>\n",
       "    <tr>\n",
       "      <th>788261</th>\n",
       "      <td>Casual</td>\n",
       "      <td>False</td>\n",
       "    </tr>\n",
       "    <tr>\n",
       "      <th>812322</th>\n",
       "      <td>Member</td>\n",
       "      <td>True</td>\n",
       "    </tr>\n",
       "    <tr>\n",
       "      <th>849575</th>\n",
       "      <td>Member</td>\n",
       "      <td>True</td>\n",
       "    </tr>\n",
       "    <tr>\n",
       "      <th>780048</th>\n",
       "      <td>Casual</td>\n",
       "      <td>False</td>\n",
       "    </tr>\n",
       "    <tr>\n",
       "      <th>721144</th>\n",
       "      <td>Member</td>\n",
       "      <td>True</td>\n",
       "    </tr>\n",
       "    <tr>\n",
       "      <th>718137</th>\n",
       "      <td>Member</td>\n",
       "      <td>True</td>\n",
       "    </tr>\n",
       "    <tr>\n",
       "      <th>797904</th>\n",
       "      <td>Member</td>\n",
       "      <td>True</td>\n",
       "    </tr>\n",
       "    <tr>\n",
       "      <th>723864</th>\n",
       "      <td>Member</td>\n",
       "      <td>True</td>\n",
       "    </tr>\n",
       "    <tr>\n",
       "      <th>781272</th>\n",
       "      <td>Member</td>\n",
       "      <td>True</td>\n",
       "    </tr>\n",
       "    <tr>\n",
       "      <th>739106</th>\n",
       "      <td>Member</td>\n",
       "      <td>True</td>\n",
       "    </tr>\n",
       "  </tbody>\n",
       "</table>\n",
       "</div>"
      ],
      "text/plain": [
       "        user_type  target\n",
       "trip_id                  \n",
       "750034     Member    True\n",
       "765640     Member    True\n",
       "799305     Member    True\n",
       "847203     Member    True\n",
       "744464     Member    True\n",
       "843416     Member    True\n",
       "836619     Member    True\n",
       "764015     Member    True\n",
       "832733     Member    True\n",
       "772565     Member    True\n",
       "788261     Casual   False\n",
       "812322     Member    True\n",
       "849575     Member    True\n",
       "780048     Casual   False\n",
       "721144     Member    True\n",
       "718137     Member    True\n",
       "797904     Member    True\n",
       "723864     Member    True\n",
       "781272     Member    True\n",
       "739106     Member    True"
      ]
     },
     "execution_count": 16,
     "metadata": {},
     "output_type": "execute_result"
    }
   ],
   "source": [
    "bikes_samp['target'] = bikes_samp['user_type'].apply(\n",
    "    lambda type:  type == 'Member'\n",
    ")\n",
    "bikes_samp[['user_type', 'target']]"
   ]
  },
  {
   "cell_type": "code",
   "execution_count": 19,
   "metadata": {},
   "outputs": [],
   "source": [
    "bikes_samp_prep = prep_bikes(bikes_samp)\n",
    "enc = LabelBinarizer()\n",
    "# y = enc.fit_transform(bikes_samp['user_type'])\n",
    "train, test = train_test_split(\n",
    "    bikes_samp_prep, \n",
    "    test_size=0.4,\n",
    "    stratify=bikes_samp_prep['target'],\n",
    ")"
   ]
  },
  {
   "cell_type": "code",
   "execution_count": 23,
   "metadata": {},
   "outputs": [
    {
     "name": "stderr",
     "output_type": "stream",
     "text": [
      "/home/kohada/.local/share/virtualenvs/to-bikes-FA3MNQSM/lib/python3.9/site-packages/sklearn/model_selection/_split.py:684: UserWarning: The least populated class in y has only 1 members, which is less than n_splits=5.\n",
      "  warnings.warn(\n"
     ]
    },
    {
     "ename": "InvalidIndexError",
     "evalue": "(slice(None, None, None), array([ 3,  4,  5,  6,  7,  8,  9, 10, 11]))",
     "output_type": "error",
     "traceback": [
      "\u001b[0;31m---------------------------------------------------------------------------\u001b[0m",
      "\u001b[0;31mTypeError\u001b[0m                                 Traceback (most recent call last)",
      "File \u001b[0;32m~/.local/share/virtualenvs/to-bikes-FA3MNQSM/lib/python3.9/site-packages/pandas/core/indexes/base.py:3621\u001b[0m, in \u001b[0;36mIndex.get_loc\u001b[0;34m(self, key, method, tolerance)\u001b[0m\n\u001b[1;32m   3620\u001b[0m \u001b[39mtry\u001b[39;00m:\n\u001b[0;32m-> 3621\u001b[0m     \u001b[39mreturn\u001b[39;00m \u001b[39mself\u001b[39;49m\u001b[39m.\u001b[39;49m_engine\u001b[39m.\u001b[39;49mget_loc(casted_key)\n\u001b[1;32m   3622\u001b[0m \u001b[39mexcept\u001b[39;00m \u001b[39mKeyError\u001b[39;00m \u001b[39mas\u001b[39;00m err:\n",
      "File \u001b[0;32m~/.local/share/virtualenvs/to-bikes-FA3MNQSM/lib/python3.9/site-packages/pandas/_libs/index.pyx:136\u001b[0m, in \u001b[0;36mpandas._libs.index.IndexEngine.get_loc\u001b[0;34m()\u001b[0m\n",
      "File \u001b[0;32m~/.local/share/virtualenvs/to-bikes-FA3MNQSM/lib/python3.9/site-packages/pandas/_libs/index.pyx:142\u001b[0m, in \u001b[0;36mpandas._libs.index.IndexEngine.get_loc\u001b[0;34m()\u001b[0m\n",
      "\u001b[0;31mTypeError\u001b[0m: '(slice(None, None, None), array([ 3,  4,  5,  6,  7,  8,  9, 10, 11]))' is an invalid key",
      "\nDuring handling of the above exception, another exception occurred:\n",
      "\u001b[0;31mInvalidIndexError\u001b[0m                         Traceback (most recent call last)",
      "\u001b[1;32m/home/kohada/to-bikes/model/model.ipynb Cell 26\u001b[0m in \u001b[0;36m<cell line: 3>\u001b[0;34m()\u001b[0m\n\u001b[1;32m      <a href='vscode-notebook-cell://wsl%2Bubuntu/home/kohada/to-bikes/model/model.ipynb#X55sdnNjb2RlLXJlbW90ZQ%3D%3D?line=1'>2</a>\u001b[0m trips \u001b[39m=\u001b[39m []\n\u001b[1;32m      <a href='vscode-notebook-cell://wsl%2Bubuntu/home/kohada/to-bikes/model/model.ipynb#X55sdnNjb2RlLXJlbW90ZQ%3D%3D?line=2'>3</a>\u001b[0m \u001b[39mfor\u001b[39;00m train_idx, test_idx \u001b[39min\u001b[39;00m cv\u001b[39m.\u001b[39msplit(train\u001b[39m.\u001b[39mdrop(\u001b[39m'\u001b[39m\u001b[39mtarget\u001b[39m\u001b[39m'\u001b[39m, axis\u001b[39m=\u001b[39m\u001b[39m1\u001b[39m), train[\u001b[39m'\u001b[39m\u001b[39mtarget\u001b[39m\u001b[39m'\u001b[39m]):\n\u001b[0;32m----> <a href='vscode-notebook-cell://wsl%2Bubuntu/home/kohada/to-bikes/model/model.ipynb#X55sdnNjb2RlLXJlbW90ZQ%3D%3D?line=3'>4</a>\u001b[0m     trips\u001b[39m.\u001b[39mappend(train[:,train_idx], train[:,test_idx])\n",
      "File \u001b[0;32m~/.local/share/virtualenvs/to-bikes-FA3MNQSM/lib/python3.9/site-packages/pandas/core/frame.py:3505\u001b[0m, in \u001b[0;36mDataFrame.__getitem__\u001b[0;34m(self, key)\u001b[0m\n\u001b[1;32m   3503\u001b[0m \u001b[39mif\u001b[39;00m \u001b[39mself\u001b[39m\u001b[39m.\u001b[39mcolumns\u001b[39m.\u001b[39mnlevels \u001b[39m>\u001b[39m \u001b[39m1\u001b[39m:\n\u001b[1;32m   3504\u001b[0m     \u001b[39mreturn\u001b[39;00m \u001b[39mself\u001b[39m\u001b[39m.\u001b[39m_getitem_multilevel(key)\n\u001b[0;32m-> 3505\u001b[0m indexer \u001b[39m=\u001b[39m \u001b[39mself\u001b[39;49m\u001b[39m.\u001b[39;49mcolumns\u001b[39m.\u001b[39;49mget_loc(key)\n\u001b[1;32m   3506\u001b[0m \u001b[39mif\u001b[39;00m is_integer(indexer):\n\u001b[1;32m   3507\u001b[0m     indexer \u001b[39m=\u001b[39m [indexer]\n",
      "File \u001b[0;32m~/.local/share/virtualenvs/to-bikes-FA3MNQSM/lib/python3.9/site-packages/pandas/core/indexes/base.py:3628\u001b[0m, in \u001b[0;36mIndex.get_loc\u001b[0;34m(self, key, method, tolerance)\u001b[0m\n\u001b[1;32m   3623\u001b[0m         \u001b[39mraise\u001b[39;00m \u001b[39mKeyError\u001b[39;00m(key) \u001b[39mfrom\u001b[39;00m \u001b[39merr\u001b[39;00m\n\u001b[1;32m   3624\u001b[0m     \u001b[39mexcept\u001b[39;00m \u001b[39mTypeError\u001b[39;00m:\n\u001b[1;32m   3625\u001b[0m         \u001b[39m# If we have a listlike key, _check_indexing_error will raise\u001b[39;00m\n\u001b[1;32m   3626\u001b[0m         \u001b[39m#  InvalidIndexError. Otherwise we fall through and re-raise\u001b[39;00m\n\u001b[1;32m   3627\u001b[0m         \u001b[39m#  the TypeError.\u001b[39;00m\n\u001b[0;32m-> 3628\u001b[0m         \u001b[39mself\u001b[39;49m\u001b[39m.\u001b[39;49m_check_indexing_error(key)\n\u001b[1;32m   3629\u001b[0m         \u001b[39mraise\u001b[39;00m\n\u001b[1;32m   3631\u001b[0m \u001b[39m# GH#42269\u001b[39;00m\n",
      "File \u001b[0;32m~/.local/share/virtualenvs/to-bikes-FA3MNQSM/lib/python3.9/site-packages/pandas/core/indexes/base.py:5637\u001b[0m, in \u001b[0;36mIndex._check_indexing_error\u001b[0;34m(self, key)\u001b[0m\n\u001b[1;32m   5633\u001b[0m \u001b[39mdef\u001b[39;00m \u001b[39m_check_indexing_error\u001b[39m(\u001b[39mself\u001b[39m, key):\n\u001b[1;32m   5634\u001b[0m     \u001b[39mif\u001b[39;00m \u001b[39mnot\u001b[39;00m is_scalar(key):\n\u001b[1;32m   5635\u001b[0m         \u001b[39m# if key is not a scalar, directly raise an error (the code below\u001b[39;00m\n\u001b[1;32m   5636\u001b[0m         \u001b[39m# would convert to numpy arrays and raise later any way) - GH29926\u001b[39;00m\n\u001b[0;32m-> 5637\u001b[0m         \u001b[39mraise\u001b[39;00m InvalidIndexError(key)\n",
      "\u001b[0;31mInvalidIndexError\u001b[0m: (slice(None, None, None), array([ 3,  4,  5,  6,  7,  8,  9, 10, 11]))"
     ]
    }
   ],
   "source": [
    "cv = StratifiedKFold()\n",
    "trips = []\n",
    "for train_idx, test_idx in cv.split(train.drop('target', axis=1), train['target']):\n",
    "    trips.append(train[:,train_idx], train[:,test_idx])\n",
    "\n"
   ]
  },
  {
   "cell_type": "code",
   "execution_count": null,
   "metadata": {},
   "outputs": [
    {
     "name": "stdout",
     "output_type": "stream",
     "text": [
      "[33  4] [12  1]\n"
     ]
    }
   ],
   "source": [
    "print(np.bincount(y_train), np.bincount(y_test))"
   ]
  },
  {
   "cell_type": "markdown",
   "metadata": {},
   "source": [
    "Split to train/val/test.\n",
    "\n",
    "First split with `train_test_split` to get the hold-out set, then split the resulting training set via `StratifiedKfold`"
   ]
  },
  {
   "cell_type": "code",
   "execution_count": 93,
   "metadata": {},
   "outputs": [],
   "source": [
    "# split to train/test.\n",
    "\n",
    "X = bikes_dt.drop('user_type', axis=1)\n",
    "y = bikes_dt['user_type']\n",
    "X_train, X_test, y_train, y_test = train_test_split(\n",
    "    X, y,\n",
    "    test_size=0.25,\n",
    "    stratify=y,\n",
    "    )"
   ]
  },
  {
   "cell_type": "code",
   "execution_count": 97,
   "metadata": {},
   "outputs": [
    {
     "data": {
      "text/plain": [
       "trip_id\n",
       "712382    Member\n",
       "712383    Member\n",
       "712384    Member\n",
       "712385    Member\n",
       "712386    Member\n",
       "Name: user_type, dtype: object"
      ]
     },
     "execution_count": 97,
     "metadata": {},
     "output_type": "execute_result"
    }
   ],
   "source": [
    "y.head()"
   ]
  },
  {
   "cell_type": "markdown",
   "metadata": {},
   "source": [
    "Need `ColumnTransformer` to include one-hot encode of only select columns in a pipeline"
   ]
  },
  {
   "cell_type": "code",
   "execution_count": 130,
   "metadata": {},
   "outputs": [
    {
     "data": {
      "text/html": [
       "<style>#sk-container-id-10 {color: black;background-color: white;}#sk-container-id-10 pre{padding: 0;}#sk-container-id-10 div.sk-toggleable {background-color: white;}#sk-container-id-10 label.sk-toggleable__label {cursor: pointer;display: block;width: 100%;margin-bottom: 0;padding: 0.3em;box-sizing: border-box;text-align: center;}#sk-container-id-10 label.sk-toggleable__label-arrow:before {content: \"▸\";float: left;margin-right: 0.25em;color: #696969;}#sk-container-id-10 label.sk-toggleable__label-arrow:hover:before {color: black;}#sk-container-id-10 div.sk-estimator:hover label.sk-toggleable__label-arrow:before {color: black;}#sk-container-id-10 div.sk-toggleable__content {max-height: 0;max-width: 0;overflow: hidden;text-align: left;background-color: #f0f8ff;}#sk-container-id-10 div.sk-toggleable__content pre {margin: 0.2em;color: black;border-radius: 0.25em;background-color: #f0f8ff;}#sk-container-id-10 input.sk-toggleable__control:checked~div.sk-toggleable__content {max-height: 200px;max-width: 100%;overflow: auto;}#sk-container-id-10 input.sk-toggleable__control:checked~label.sk-toggleable__label-arrow:before {content: \"▾\";}#sk-container-id-10 div.sk-estimator input.sk-toggleable__control:checked~label.sk-toggleable__label {background-color: #d4ebff;}#sk-container-id-10 div.sk-label input.sk-toggleable__control:checked~label.sk-toggleable__label {background-color: #d4ebff;}#sk-container-id-10 input.sk-hidden--visually {border: 0;clip: rect(1px 1px 1px 1px);clip: rect(1px, 1px, 1px, 1px);height: 1px;margin: -1px;overflow: hidden;padding: 0;position: absolute;width: 1px;}#sk-container-id-10 div.sk-estimator {font-family: monospace;background-color: #f0f8ff;border: 1px dotted black;border-radius: 0.25em;box-sizing: border-box;margin-bottom: 0.5em;}#sk-container-id-10 div.sk-estimator:hover {background-color: #d4ebff;}#sk-container-id-10 div.sk-parallel-item::after {content: \"\";width: 100%;border-bottom: 1px solid gray;flex-grow: 1;}#sk-container-id-10 div.sk-label:hover label.sk-toggleable__label {background-color: #d4ebff;}#sk-container-id-10 div.sk-serial::before {content: \"\";position: absolute;border-left: 1px solid gray;box-sizing: border-box;top: 0;bottom: 0;left: 50%;z-index: 0;}#sk-container-id-10 div.sk-serial {display: flex;flex-direction: column;align-items: center;background-color: white;padding-right: 0.2em;padding-left: 0.2em;position: relative;}#sk-container-id-10 div.sk-item {position: relative;z-index: 1;}#sk-container-id-10 div.sk-parallel {display: flex;align-items: stretch;justify-content: center;background-color: white;position: relative;}#sk-container-id-10 div.sk-item::before, #sk-container-id-10 div.sk-parallel-item::before {content: \"\";position: absolute;border-left: 1px solid gray;box-sizing: border-box;top: 0;bottom: 0;left: 50%;z-index: -1;}#sk-container-id-10 div.sk-parallel-item {display: flex;flex-direction: column;z-index: 1;position: relative;background-color: white;}#sk-container-id-10 div.sk-parallel-item:first-child::after {align-self: flex-end;width: 50%;}#sk-container-id-10 div.sk-parallel-item:last-child::after {align-self: flex-start;width: 50%;}#sk-container-id-10 div.sk-parallel-item:only-child::after {width: 0;}#sk-container-id-10 div.sk-dashed-wrapped {border: 1px dashed gray;margin: 0 0.4em 0.5em 0.4em;box-sizing: border-box;padding-bottom: 0.4em;background-color: white;}#sk-container-id-10 div.sk-label label {font-family: monospace;font-weight: bold;display: inline-block;line-height: 1.2em;}#sk-container-id-10 div.sk-label-container {text-align: center;}#sk-container-id-10 div.sk-container {/* jupyter's `normalize.less` sets `[hidden] { display: none; }` but bootstrap.min.css set `[hidden] { display: none !important; }` so we also need the `!important` here to be able to override the default hidden behavior on the sphinx rendered scikit-learn.org. See: https://github.com/scikit-learn/scikit-learn/issues/21755 */display: inline-block !important;position: relative;}#sk-container-id-10 div.sk-text-repr-fallback {display: none;}</style><div id=\"sk-container-id-10\" class=\"sk-top-container\"><div class=\"sk-text-repr-fallback\"><pre>ColumnTransformer(remainder=&#x27;passthrough&#x27;,\n",
       "                  transformers=[(&#x27;onehotencoder-1&#x27;, OneHotEncoder(),\n",
       "                                 [&#x27;from_station_id&#x27;]),\n",
       "                                (&#x27;onehotencoder-2&#x27;, OneHotEncoder(),\n",
       "                                 [&#x27;to_station_id&#x27;]),\n",
       "                                (&#x27;targetencoder&#x27;, TargetEncoder(), [])])</pre><b>In a Jupyter environment, please rerun this cell to show the HTML representation or trust the notebook. <br />On GitHub, the HTML representation is unable to render, please try loading this page with nbviewer.org.</b></div><div class=\"sk-container\" hidden><div class=\"sk-item sk-dashed-wrapped\"><div class=\"sk-label-container\"><div class=\"sk-label sk-toggleable\"><input class=\"sk-toggleable__control sk-hidden--visually\" id=\"sk-estimator-id-32\" type=\"checkbox\" ><label for=\"sk-estimator-id-32\" class=\"sk-toggleable__label sk-toggleable__label-arrow\">ColumnTransformer</label><div class=\"sk-toggleable__content\"><pre>ColumnTransformer(remainder=&#x27;passthrough&#x27;,\n",
       "                  transformers=[(&#x27;onehotencoder-1&#x27;, OneHotEncoder(),\n",
       "                                 [&#x27;from_station_id&#x27;]),\n",
       "                                (&#x27;onehotencoder-2&#x27;, OneHotEncoder(),\n",
       "                                 [&#x27;to_station_id&#x27;]),\n",
       "                                (&#x27;targetencoder&#x27;, TargetEncoder(), [])])</pre></div></div></div><div class=\"sk-parallel\"><div class=\"sk-parallel-item\"><div class=\"sk-item\"><div class=\"sk-label-container\"><div class=\"sk-label sk-toggleable\"><input class=\"sk-toggleable__control sk-hidden--visually\" id=\"sk-estimator-id-33\" type=\"checkbox\" ><label for=\"sk-estimator-id-33\" class=\"sk-toggleable__label sk-toggleable__label-arrow\">onehotencoder-1</label><div class=\"sk-toggleable__content\"><pre>[&#x27;from_station_id&#x27;]</pre></div></div></div><div class=\"sk-serial\"><div class=\"sk-item\"><div class=\"sk-estimator sk-toggleable\"><input class=\"sk-toggleable__control sk-hidden--visually\" id=\"sk-estimator-id-34\" type=\"checkbox\" ><label for=\"sk-estimator-id-34\" class=\"sk-toggleable__label sk-toggleable__label-arrow\">OneHotEncoder</label><div class=\"sk-toggleable__content\"><pre>OneHotEncoder()</pre></div></div></div></div></div></div><div class=\"sk-parallel-item\"><div class=\"sk-item\"><div class=\"sk-label-container\"><div class=\"sk-label sk-toggleable\"><input class=\"sk-toggleable__control sk-hidden--visually\" id=\"sk-estimator-id-35\" type=\"checkbox\" ><label for=\"sk-estimator-id-35\" class=\"sk-toggleable__label sk-toggleable__label-arrow\">onehotencoder-2</label><div class=\"sk-toggleable__content\"><pre>[&#x27;to_station_id&#x27;]</pre></div></div></div><div class=\"sk-serial\"><div class=\"sk-item\"><div class=\"sk-estimator sk-toggleable\"><input class=\"sk-toggleable__control sk-hidden--visually\" id=\"sk-estimator-id-36\" type=\"checkbox\" ><label for=\"sk-estimator-id-36\" class=\"sk-toggleable__label sk-toggleable__label-arrow\">OneHotEncoder</label><div class=\"sk-toggleable__content\"><pre>OneHotEncoder()</pre></div></div></div></div></div></div><div class=\"sk-parallel-item\"><div class=\"sk-item\"><div class=\"sk-label-container\"><div class=\"sk-label sk-toggleable\"><input class=\"sk-toggleable__control sk-hidden--visually\" id=\"sk-estimator-id-37\" type=\"checkbox\" ><label for=\"sk-estimator-id-37\" class=\"sk-toggleable__label sk-toggleable__label-arrow\">targetencoder</label><div class=\"sk-toggleable__content\"><pre>[]</pre></div></div></div><div class=\"sk-serial\"><div class=\"sk-item\"><div class=\"sk-estimator sk-toggleable\"><input class=\"sk-toggleable__control sk-hidden--visually\" id=\"sk-estimator-id-38\" type=\"checkbox\" ><label for=\"sk-estimator-id-38\" class=\"sk-toggleable__label sk-toggleable__label-arrow\">TargetEncoder</label><div class=\"sk-toggleable__content\"><pre>TargetEncoder()</pre></div></div></div></div></div></div><div class=\"sk-parallel-item\"><div class=\"sk-item\"><div class=\"sk-label-container\"><div class=\"sk-label sk-toggleable\"><input class=\"sk-toggleable__control sk-hidden--visually\" id=\"sk-estimator-id-39\" type=\"checkbox\" ><label for=\"sk-estimator-id-39\" class=\"sk-toggleable__label sk-toggleable__label-arrow\">remainder</label><div class=\"sk-toggleable__content\"><pre>[&#x27;trip_duration_seconds&#x27;, &#x27;day_of_week&#x27;, &#x27;start_hour&#x27;, &#x27;end_hour&#x27;]</pre></div></div></div><div class=\"sk-serial\"><div class=\"sk-item\"><div class=\"sk-estimator sk-toggleable\"><input class=\"sk-toggleable__control sk-hidden--visually\" id=\"sk-estimator-id-40\" type=\"checkbox\" ><label for=\"sk-estimator-id-40\" class=\"sk-toggleable__label sk-toggleable__label-arrow\">passthrough</label><div class=\"sk-toggleable__content\"><pre>passthrough</pre></div></div></div></div></div></div></div></div></div></div>"
      ],
      "text/plain": [
       "ColumnTransformer(remainder='passthrough',\n",
       "                  transformers=[('onehotencoder-1', OneHotEncoder(),\n",
       "                                 ['from_station_id']),\n",
       "                                ('onehotencoder-2', OneHotEncoder(),\n",
       "                                 ['to_station_id']),\n",
       "                                ('targetencoder', TargetEncoder(), [])])"
      ]
     },
     "execution_count": 130,
     "metadata": {},
     "output_type": "execute_result"
    }
   ],
   "source": [
    "from sklearn.compose import make_column_transformer\n",
    "from category_encoders.target_encoder import TargetEncoder\n",
    "\n",
    "# enc = OneHotEncoder()\n",
    "col_trans = make_column_transformer(\n",
    "    (OneHotEncoder(), ['from_station_id']),\n",
    "    (OneHotEncoder(), ['to_station_id']),\n",
    "    (TargetEncoder(), []),\n",
    "    # remainder='drop',\n",
    "    remainder='passthrough',\n",
    ")\n",
    "col_trans.fit(X_train, y_train)"
   ]
  },
  {
   "cell_type": "code",
   "execution_count": 132,
   "metadata": {},
   "outputs": [
    {
     "data": {
      "text/plain": [
       "(33031, 404)"
      ]
     },
     "execution_count": 132,
     "metadata": {},
     "output_type": "execute_result"
    }
   ],
   "source": [
    "foo = col_trans.fit_transform(X_test, y_test)\n",
    "foo.toarray().shape"
   ]
  },
  {
   "cell_type": "code",
   "execution_count": 134,
   "metadata": {},
   "outputs": [
    {
     "data": {
      "text/plain": [
       "array([[0.00000000e+00, 0.00000000e+00, 0.00000000e+00, 0.00000000e+00,\n",
       "        1.81000000e+02, 2.00000000e+00, 1.47833333e+01, 1.48333333e+01],\n",
       "       [0.00000000e+00, 0.00000000e+00, 0.00000000e+00, 0.00000000e+00,\n",
       "        6.42000000e+02, 1.00000000e+00, 2.20333333e+01, 2.22000000e+01],\n",
       "       [0.00000000e+00, 0.00000000e+00, 0.00000000e+00, 0.00000000e+00,\n",
       "        3.32000000e+02, 5.00000000e+00, 5.66666667e+00, 5.75000000e+00],\n",
       "       [0.00000000e+00, 0.00000000e+00, 0.00000000e+00, 0.00000000e+00,\n",
       "        1.14400000e+03, 2.00000000e+00, 4.38333333e+00, 4.70000000e+00],\n",
       "       [0.00000000e+00, 0.00000000e+00, 0.00000000e+00, 0.00000000e+00,\n",
       "        6.12000000e+02, 5.00000000e+00, 1.80333333e+01, 1.82166667e+01]])"
      ]
     },
     "execution_count": 134,
     "metadata": {},
     "output_type": "execute_result"
    }
   ],
   "source": [
    "foo.toarray()[:5, -8:]"
   ]
  },
  {
   "cell_type": "markdown",
   "metadata": {},
   "source": [
    "### LabelBinarizer in Pipeline?\n",
    "\n",
    "All steps in a pipeline are assumed to be transformers able to take `fit_transform(self, X, y)`, but the binarizer is only acting on `y`.\n",
    "\n",
    "Need to use `TransformedTargetRegressor` to include our target transformation as part of the pipeline. What the wrapper class does is take the regressor that will be used (logistic reg or RF in our case), as well as the transformation that will be applied to the target.\n",
    "\n",
    "The snag here is that `y` is required by the `Transformer` to already be a numpy array. Wouldn't need the wrapper if it already was, buddy.\n",
    "\n",
    "Pipeline will not support target transformation since it's thought to be done only initially during fit. In all subsequent instances, the pipeline will only be working with new unlabelled data; no use in including support for target transformation."
   ]
  },
  {
   "cell_type": "code",
   "execution_count": 121,
   "metadata": {},
   "outputs": [
    {
     "data": {
      "text/html": [
       "<style>#sk-container-id-9 {color: black;background-color: white;}#sk-container-id-9 pre{padding: 0;}#sk-container-id-9 div.sk-toggleable {background-color: white;}#sk-container-id-9 label.sk-toggleable__label {cursor: pointer;display: block;width: 100%;margin-bottom: 0;padding: 0.3em;box-sizing: border-box;text-align: center;}#sk-container-id-9 label.sk-toggleable__label-arrow:before {content: \"▸\";float: left;margin-right: 0.25em;color: #696969;}#sk-container-id-9 label.sk-toggleable__label-arrow:hover:before {color: black;}#sk-container-id-9 div.sk-estimator:hover label.sk-toggleable__label-arrow:before {color: black;}#sk-container-id-9 div.sk-toggleable__content {max-height: 0;max-width: 0;overflow: hidden;text-align: left;background-color: #f0f8ff;}#sk-container-id-9 div.sk-toggleable__content pre {margin: 0.2em;color: black;border-radius: 0.25em;background-color: #f0f8ff;}#sk-container-id-9 input.sk-toggleable__control:checked~div.sk-toggleable__content {max-height: 200px;max-width: 100%;overflow: auto;}#sk-container-id-9 input.sk-toggleable__control:checked~label.sk-toggleable__label-arrow:before {content: \"▾\";}#sk-container-id-9 div.sk-estimator input.sk-toggleable__control:checked~label.sk-toggleable__label {background-color: #d4ebff;}#sk-container-id-9 div.sk-label input.sk-toggleable__control:checked~label.sk-toggleable__label {background-color: #d4ebff;}#sk-container-id-9 input.sk-hidden--visually {border: 0;clip: rect(1px 1px 1px 1px);clip: rect(1px, 1px, 1px, 1px);height: 1px;margin: -1px;overflow: hidden;padding: 0;position: absolute;width: 1px;}#sk-container-id-9 div.sk-estimator {font-family: monospace;background-color: #f0f8ff;border: 1px dotted black;border-radius: 0.25em;box-sizing: border-box;margin-bottom: 0.5em;}#sk-container-id-9 div.sk-estimator:hover {background-color: #d4ebff;}#sk-container-id-9 div.sk-parallel-item::after {content: \"\";width: 100%;border-bottom: 1px solid gray;flex-grow: 1;}#sk-container-id-9 div.sk-label:hover label.sk-toggleable__label {background-color: #d4ebff;}#sk-container-id-9 div.sk-serial::before {content: \"\";position: absolute;border-left: 1px solid gray;box-sizing: border-box;top: 0;bottom: 0;left: 50%;z-index: 0;}#sk-container-id-9 div.sk-serial {display: flex;flex-direction: column;align-items: center;background-color: white;padding-right: 0.2em;padding-left: 0.2em;position: relative;}#sk-container-id-9 div.sk-item {position: relative;z-index: 1;}#sk-container-id-9 div.sk-parallel {display: flex;align-items: stretch;justify-content: center;background-color: white;position: relative;}#sk-container-id-9 div.sk-item::before, #sk-container-id-9 div.sk-parallel-item::before {content: \"\";position: absolute;border-left: 1px solid gray;box-sizing: border-box;top: 0;bottom: 0;left: 50%;z-index: -1;}#sk-container-id-9 div.sk-parallel-item {display: flex;flex-direction: column;z-index: 1;position: relative;background-color: white;}#sk-container-id-9 div.sk-parallel-item:first-child::after {align-self: flex-end;width: 50%;}#sk-container-id-9 div.sk-parallel-item:last-child::after {align-self: flex-start;width: 50%;}#sk-container-id-9 div.sk-parallel-item:only-child::after {width: 0;}#sk-container-id-9 div.sk-dashed-wrapped {border: 1px dashed gray;margin: 0 0.4em 0.5em 0.4em;box-sizing: border-box;padding-bottom: 0.4em;background-color: white;}#sk-container-id-9 div.sk-label label {font-family: monospace;font-weight: bold;display: inline-block;line-height: 1.2em;}#sk-container-id-9 div.sk-label-container {text-align: center;}#sk-container-id-9 div.sk-container {/* jupyter's `normalize.less` sets `[hidden] { display: none; }` but bootstrap.min.css set `[hidden] { display: none !important; }` so we also need the `!important` here to be able to override the default hidden behavior on the sphinx rendered scikit-learn.org. See: https://github.com/scikit-learn/scikit-learn/issues/21755 */display: inline-block !important;position: relative;}#sk-container-id-9 div.sk-text-repr-fallback {display: none;}</style><div id=\"sk-container-id-9\" class=\"sk-top-container\"><div class=\"sk-text-repr-fallback\"><pre>LogisticRegression(class_weight=&#x27;balanced&#x27;, max_iter=5000.0)</pre><b>In a Jupyter environment, please rerun this cell to show the HTML representation or trust the notebook. <br />On GitHub, the HTML representation is unable to render, please try loading this page with nbviewer.org.</b></div><div class=\"sk-container\" hidden><div class=\"sk-item\"><div class=\"sk-estimator sk-toggleable\"><input class=\"sk-toggleable__control sk-hidden--visually\" id=\"sk-estimator-id-31\" type=\"checkbox\" checked><label for=\"sk-estimator-id-31\" class=\"sk-toggleable__label sk-toggleable__label-arrow\">LogisticRegression</label><div class=\"sk-toggleable__content\"><pre>LogisticRegression(class_weight=&#x27;balanced&#x27;, max_iter=5000.0)</pre></div></div></div></div></div>"
      ],
      "text/plain": [
       "LogisticRegression(class_weight='balanced', max_iter=5000.0)"
      ]
     },
     "execution_count": 121,
     "metadata": {},
     "output_type": "execute_result"
    }
   ],
   "source": [
    "# from sklearn.compose import TransformedTargetRegressor\n",
    "\n",
    "label_enc = LabelBinarizer()\n",
    "regressor = LogisticRegression(\n",
    "    class_weight='balanced',\n",
    "    max_iter=5e2)\n",
    "# regr = TransformedTargetRegressor(\n",
    "#     regressor=regressor,\n",
    "#     transformer=label_enc,\n",
    "# )\n",
    "\n",
    "X_train_proc = col_trans.transform(X_train)\n",
    "y_train_proc = label_enc.fit_transform(y_train).ravel()\n",
    "regressor.fit(X_train_proc, y_train_proc)\n"
   ]
  },
  {
   "cell_type": "code",
   "execution_count": 126,
   "metadata": {},
   "outputs": [
    {
     "name": "stdout",
     "output_type": "stream",
     "text": [
      "0.1623052545436927 [0.26134342 0.88361661]\n"
     ]
    }
   ],
   "source": [
    "X_test_proc = col_trans.transform(X_test)\n",
    "y_test_proc = label_enc.transform(y_test).ravel()\n",
    "y_score = regressor.predict_proba(X_test_proc)[:, 0]\n",
    "y_pred = regressor.predict(X_test_proc)\n",
    "\n",
    "roc = roc_auc_score(y_test_proc, y_score)\n",
    "f1 = f1_score(y_test_proc, y_pred, average=None)\n",
    "print(roc, f1)"
   ]
  },
  {
   "cell_type": "code",
   "execution_count": 123,
   "metadata": {},
   "outputs": [
    {
     "data": {
      "text/plain": [
       "array(['Casual', 'Member'], dtype='<U6')"
      ]
     },
     "execution_count": 123,
     "metadata": {},
     "output_type": "execute_result"
    }
   ],
   "source": [
    "baz = np.array([0, 1])\n",
    "label_enc.inverse_transform(baz)"
   ]
  },
  {
   "cell_type": "code",
   "execution_count": 125,
   "metadata": {},
   "outputs": [
    {
     "name": "stdout",
     "output_type": "stream",
     "text": [
      "0.1172606802898305 [0.5789681  0.98317145]\n"
     ]
    }
   ],
   "source": [
    "rf =  RandomForestClassifier(\n",
    "    class_weight='balanced',\n",
    ")\n",
    "rf.fit(X_train_proc, y_train_proc)\n",
    "rf_y_score = rf.predict_proba(X_test_proc)[:, 0]\n",
    "rf_y_pred = rf.predict(X_test_proc)\n",
    "rf_roc = roc_auc_score(y_test_proc, rf_y_score)\n",
    "rf_f1 = f1_score(y_test_proc, rf_y_pred, average=None)\n",
    "print(rf_roc, rf_f1)"
   ]
  },
  {
   "cell_type": "code",
   "execution_count": null,
   "metadata": {},
   "outputs": [],
   "source": []
  }
 ],
 "metadata": {
  "kernelspec": {
   "display_name": "Python 3.9.12 ('to-bikes-FA3MNQSM')",
   "language": "python",
   "name": "python3"
  },
  "language_info": {
   "codemirror_mode": {
    "name": "ipython",
    "version": 3
   },
   "file_extension": ".py",
   "mimetype": "text/x-python",
   "name": "python",
   "nbconvert_exporter": "python",
   "pygments_lexer": "ipython3",
   "version": "3.9.12"
  },
  "orig_nbformat": 4,
  "vscode": {
   "interpreter": {
    "hash": "84462622fa96bfe62b0062acf35e339bb5910b6bf56fae9e067a004230b5b792"
   }
  }
 },
 "nbformat": 4,
 "nbformat_minor": 2
}
