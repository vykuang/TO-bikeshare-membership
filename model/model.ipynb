{
 "cells": [
  {
   "cell_type": "markdown",
   "metadata": {},
   "source": [
    "# Testing the model candidates\n",
    "\n",
    "## Base features\n",
    "\n",
    "* start time\n",
    "* end time\n",
    "* duration\n",
    "* station A ID\n",
    "* station B ID\n",
    "* user type\n",
    "* season (for future?)\n",
    "\n",
    "## Constraints\n",
    "\n",
    "Imbalanced dataset - 95% of the recorded trips are members.\n",
    "\n",
    "## Candidates\n",
    "\n",
    "1. Logistic regression\n",
    "2. Random forest"
   ]
  },
  {
   "cell_type": "code",
   "execution_count": 53,
   "metadata": {},
   "outputs": [],
   "source": [
    "import numpy as np\n",
    "import pandas as pd\n",
    "\n",
    "from sklearn.preprocessing import OneHotEncoder, LabelEncoder\n",
    "from sklearn.model_selection import train_test_split, StratifiedKFold\n",
    "\n",
    "from sklearn.linear_model import LogisticRegression\n",
    "from sklearn.ensemble import RandomForestClassifier\n",
    "from sklearn.metrics import f1_score, roc_auc_score\n",
    "\n",
    "from sklearn.pipeline import Pipeline"
   ]
  },
  {
   "cell_type": "markdown",
   "metadata": {},
   "source": [
    "## Loading the dataset"
   ]
  },
  {
   "cell_type": "code",
   "execution_count": 4,
   "metadata": {},
   "outputs": [
    {
     "data": {
      "text/html": [
       "<div>\n",
       "<style scoped>\n",
       "    .dataframe tbody tr th:only-of-type {\n",
       "        vertical-align: middle;\n",
       "    }\n",
       "\n",
       "    .dataframe tbody tr th {\n",
       "        vertical-align: top;\n",
       "    }\n",
       "\n",
       "    .dataframe thead th {\n",
       "        text-align: right;\n",
       "    }\n",
       "</style>\n",
       "<table border=\"1\" class=\"dataframe\">\n",
       "  <thead>\n",
       "    <tr style=\"text-align: right;\">\n",
       "      <th></th>\n",
       "      <th>trip_start_time</th>\n",
       "      <th>trip_stop_time</th>\n",
       "      <th>trip_duration_seconds</th>\n",
       "      <th>from_station_id</th>\n",
       "      <th>from_station_name</th>\n",
       "      <th>to_station_id</th>\n",
       "      <th>to_station_name</th>\n",
       "      <th>user_type</th>\n",
       "    </tr>\n",
       "    <tr>\n",
       "      <th>trip_id</th>\n",
       "      <th></th>\n",
       "      <th></th>\n",
       "      <th></th>\n",
       "      <th></th>\n",
       "      <th></th>\n",
       "      <th></th>\n",
       "      <th></th>\n",
       "      <th></th>\n",
       "    </tr>\n",
       "  </thead>\n",
       "  <tbody>\n",
       "    <tr>\n",
       "      <th>784964</th>\n",
       "      <td>16/02/2017 21:33</td>\n",
       "      <td>16/02/2017 21:53</td>\n",
       "      <td>1207</td>\n",
       "      <td>7202</td>\n",
       "      <td>Queen St W / York St (City Hall)</td>\n",
       "      <td>7097</td>\n",
       "      <td>Riverdale Park North (Broadview Ave)</td>\n",
       "      <td>Member</td>\n",
       "    </tr>\n",
       "    <tr>\n",
       "      <th>863208</th>\n",
       "      <td>29/03/2017 12:55</td>\n",
       "      <td>29/03/2017 13:03</td>\n",
       "      <td>533</td>\n",
       "      <td>7006</td>\n",
       "      <td>Bay St / College St (East Side)</td>\n",
       "      <td>7057</td>\n",
       "      <td>Simcoe St / Wellington St W</td>\n",
       "      <td>Member</td>\n",
       "    </tr>\n",
       "    <tr>\n",
       "      <th>800702</th>\n",
       "      <td>24/02/2017 3:44</td>\n",
       "      <td>24/02/2017 4:01</td>\n",
       "      <td>1071</td>\n",
       "      <td>7046</td>\n",
       "      <td>Niagara St / Richmond St W</td>\n",
       "      <td>7163</td>\n",
       "      <td>Yonge St / Wood St</td>\n",
       "      <td>Member</td>\n",
       "    </tr>\n",
       "    <tr>\n",
       "      <th>769516</th>\n",
       "      <td>6/2/2017 13:46</td>\n",
       "      <td>6/2/2017 14:00</td>\n",
       "      <td>839</td>\n",
       "      <td>7010</td>\n",
       "      <td>King St W / Spadina Ave</td>\n",
       "      <td>7028</td>\n",
       "      <td>Gould St / Mutual St</td>\n",
       "      <td>Member</td>\n",
       "    </tr>\n",
       "    <tr>\n",
       "      <th>778488</th>\n",
       "      <td>11/2/2017 23:52</td>\n",
       "      <td>12/2/2017 0:01</td>\n",
       "      <td>492</td>\n",
       "      <td>7008</td>\n",
       "      <td>Wellesley St / Queen's Park Cres</td>\n",
       "      <td>7031</td>\n",
       "      <td>Jarvis St / Isabella St</td>\n",
       "      <td>Member</td>\n",
       "    </tr>\n",
       "  </tbody>\n",
       "</table>\n",
       "</div>"
      ],
      "text/plain": [
       "          trip_start_time    trip_stop_time  trip_duration_seconds  \\\n",
       "trip_id                                                              \n",
       "784964   16/02/2017 21:33  16/02/2017 21:53                   1207   \n",
       "863208   29/03/2017 12:55  29/03/2017 13:03                    533   \n",
       "800702    24/02/2017 3:44   24/02/2017 4:01                   1071   \n",
       "769516     6/2/2017 13:46    6/2/2017 14:00                    839   \n",
       "778488    11/2/2017 23:52    12/2/2017 0:01                    492   \n",
       "\n",
       "         from_station_id                 from_station_name  to_station_id  \\\n",
       "trip_id                                                                     \n",
       "784964              7202  Queen St W / York St (City Hall)           7097   \n",
       "863208              7006   Bay St / College St (East Side)           7057   \n",
       "800702              7046        Niagara St / Richmond St W           7163   \n",
       "769516              7010           King St W / Spadina Ave           7028   \n",
       "778488              7008  Wellesley St / Queen's Park Cres           7031   \n",
       "\n",
       "                              to_station_name user_type  \n",
       "trip_id                                                  \n",
       "784964   Riverdale Park North (Broadview Ave)    Member  \n",
       "863208            Simcoe St / Wellington St W    Member  \n",
       "800702                     Yonge St / Wood St    Member  \n",
       "769516                   Gould St / Mutual St    Member  \n",
       "778488                Jarvis St / Isabella St    Member  "
      ]
     },
     "execution_count": 4,
     "metadata": {},
     "output_type": "execute_result"
    }
   ],
   "source": [
    "from pathlib import Path\n",
    "\n",
    "csv_path = Path.cwd().parent / 'data' / 'bikeshare-2017-q1.csv'\n",
    "bikes = pd.read_csv(csv_path, index_col='trip_id')\n",
    "\n",
    "bikes.sample(5)"
   ]
  },
  {
   "cell_type": "code",
   "execution_count": 5,
   "metadata": {},
   "outputs": [
    {
     "data": {
      "text/plain": [
       "trip_start_time          object\n",
       "trip_stop_time           object\n",
       "trip_duration_seconds     int64\n",
       "from_station_id           int64\n",
       "from_station_name        object\n",
       "to_station_id             int64\n",
       "to_station_name          object\n",
       "user_type                object\n",
       "dtype: object"
      ]
     },
     "execution_count": 5,
     "metadata": {},
     "output_type": "execute_result"
    }
   ],
   "source": [
    "bikes.dtypes"
   ]
  },
  {
   "cell_type": "markdown",
   "metadata": {},
   "source": [
    "## Preprocessing\n",
    "\n",
    "1. start/stop time should be converted to two fields: day of week and time of day\n",
    "    * future dev: sync the date with public holiday calendar, i.e. an extra field indicating whether that day is a public holiday\n",
    "2. station_id are basically encoded station names and so:\n",
    "    * station names can be dropped\n",
    "    * station_id should be one-hot encoded to be treated as categoricals\n",
    "3. user_type should convert to 1/0: 1 for member, 0 for casual"
   ]
  },
  {
   "cell_type": "code",
   "execution_count": 17,
   "metadata": {},
   "outputs": [
    {
     "name": "stdout",
     "output_type": "stream",
     "text": [
      "<class 'pandas.core.series.Series'>\n",
      "Int64Index: 5 entries, 729152 to 812654\n",
      "Series name: trip_start_time\n",
      "Non-Null Count  Dtype \n",
      "--------------  ----- \n",
      "5 non-null      object\n",
      "dtypes: object(1)\n",
      "memory usage: 80.0+ bytes\n",
      "None\n",
      "<class 'pandas.core.series.Series'>\n",
      "Int64Index: 5 entries, 729152 to 812654\n",
      "Series name: trip_start_time\n",
      "Non-Null Count  Dtype         \n",
      "--------------  -----         \n",
      "5 non-null      datetime64[ns]\n",
      "dtypes: datetime64[ns](1)\n",
      "memory usage: 80.0 bytes\n",
      "None\n"
     ]
    }
   ],
   "source": [
    "df = bikes.sample(5)\n",
    "datetimes = df['trip_start_time']\n",
    "# can't convert two columns at the same time; method assumes that each column\n",
    "# represents a year/month/day column in a dataframe???\n",
    "# datetimes = df[['trip_start_time', 'trip_stop_time']]\n",
    "print(datetimes.info())\n",
    "dt = pd.to_datetime(\n",
    "    datetimes,\n",
    "    # format=\"%d/%m/%Y %H:%M\",\n",
    "    infer_datetime_format=True,\n",
    ")\n",
    "print(dt.info())"
   ]
  },
  {
   "cell_type": "code",
   "execution_count": 23,
   "metadata": {},
   "outputs": [
    {
     "name": "stdout",
     "output_type": "stream",
     "text": [
      "2017-01-13 23:05:00\n"
     ]
    }
   ],
   "source": [
    "print(dt.iloc[0])"
   ]
  },
  {
   "cell_type": "code",
   "execution_count": 20,
   "metadata": {},
   "outputs": [
    {
     "data": {
      "text/plain": [
       "4"
      ]
     },
     "execution_count": 20,
     "metadata": {},
     "output_type": "execute_result"
    }
   ],
   "source": [
    "dt.iloc[0].day_of_week"
   ]
  },
  {
   "cell_type": "code",
   "execution_count": 37,
   "metadata": {},
   "outputs": [
    {
     "name": "stdout",
     "output_type": "stream",
     "text": [
      "23 5\n"
     ]
    }
   ],
   "source": [
    "print(dt.iloc[0].hour, dt.iloc[0].minute)"
   ]
  },
  {
   "cell_type": "code",
   "execution_count": 40,
   "metadata": {},
   "outputs": [],
   "source": [
    "def prep_bikes(df_bikes):\n",
    "    \"\"\"Preprocesses the bikeshare data\n",
    "    \n",
    "    Converts the datetimes from str obj to datetime objects\n",
    "    \"\"\"\n",
    "    df_bikes['dt_start'] = pd.to_datetime(\n",
    "        df_bikes['trip_start_time'],\n",
    "        infer_datetime_format=True,\n",
    "    )\n",
    "    df_bikes['dt_end'] = pd.to_datetime(\n",
    "        df_bikes['trip_stop_time'],\n",
    "        infer_datetime_format=True,\n",
    "    )\n",
    "    # get day of week\n",
    "    def get_day_of_week(trip):\n",
    "        return trip['dt_start'].day_of_week\n",
    "\n",
    "    df_bikes['day_of_week'] = df_bikes.apply(\n",
    "        # get_day_of_week,\n",
    "        lambda x: x['dt_start'].day_of_week,\n",
    "        axis=1\n",
    "    )\n",
    "    \n",
    "    # get hours\n",
    "    df_bikes['start_hour'] = df_bikes.apply(\n",
    "        lambda x: x['dt_start'].hour + x['dt_start'].minute / 60,\n",
    "        axis=1,\n",
    "    )\n",
    "    df_bikes['end_hour'] = df_bikes.apply(\n",
    "        lambda x: x['dt_end'].hour + x['dt_end'].minute / 60,\n",
    "        axis=1,\n",
    "    )\n",
    "    drops = [\n",
    "        'trip_start_time', \n",
    "        'trip_stop_time', \n",
    "        'from_station_name', \n",
    "        'to_station_name',\n",
    "        'dt_start',\n",
    "        'dt_end',\n",
    "        ]\n",
    "    df_bikes = df_bikes.drop(drops, axis=1)\n",
    "    return df_bikes\n"
   ]
  },
  {
   "cell_type": "code",
   "execution_count": 42,
   "metadata": {},
   "outputs": [],
   "source": [
    "prepped = prep_bikes(df)"
   ]
  },
  {
   "cell_type": "markdown",
   "metadata": {},
   "source": [
    "Steps 2 and 3 involve encoding the features and so will be part of the `sklearn` pipeline."
   ]
  },
  {
   "cell_type": "code",
   "execution_count": 60,
   "metadata": {},
   "outputs": [
    {
     "data": {
      "text/plain": [
       "array([[1, 0, 0, 0, 0, 0, 1, 0, 0, 0],\n",
       "       [0, 0, 0, 1, 0, 0, 0, 1, 0, 0],\n",
       "       [0, 1, 0, 0, 0, 0, 0, 0, 1, 0],\n",
       "       [0, 0, 1, 0, 0, 0, 0, 0, 0, 1],\n",
       "       [0, 0, 0, 0, 1, 1, 0, 0, 0, 0]])"
      ]
     },
     "execution_count": 60,
     "metadata": {},
     "output_type": "execute_result"
    }
   ],
   "source": [
    "enc = OneHotEncoder(dtype=int)\n",
    "station_ids_cols = ['from_station_id', 'to_station_id']\n",
    "station_ids = prepped[station_ids_cols]\n",
    "\n",
    "enc.fit_transform(station_ids,).toarray()\n"
   ]
  },
  {
   "cell_type": "code",
   "execution_count": 46,
   "metadata": {},
   "outputs": [
    {
     "data": {
      "text/html": [
       "<div>\n",
       "<style scoped>\n",
       "    .dataframe tbody tr th:only-of-type {\n",
       "        vertical-align: middle;\n",
       "    }\n",
       "\n",
       "    .dataframe tbody tr th {\n",
       "        vertical-align: top;\n",
       "    }\n",
       "\n",
       "    .dataframe thead th {\n",
       "        text-align: right;\n",
       "    }\n",
       "</style>\n",
       "<table border=\"1\" class=\"dataframe\">\n",
       "  <thead>\n",
       "    <tr style=\"text-align: right;\">\n",
       "      <th></th>\n",
       "      <th>from_station_id</th>\n",
       "      <th>to_station_id</th>\n",
       "    </tr>\n",
       "    <tr>\n",
       "      <th>trip_id</th>\n",
       "      <th></th>\n",
       "      <th></th>\n",
       "    </tr>\n",
       "  </thead>\n",
       "  <tbody>\n",
       "    <tr>\n",
       "      <th>729152</th>\n",
       "      <td>7061</td>\n",
       "      <td>7055</td>\n",
       "    </tr>\n",
       "    <tr>\n",
       "      <th>806425</th>\n",
       "      <td>7161</td>\n",
       "      <td>7057</td>\n",
       "    </tr>\n",
       "    <tr>\n",
       "      <th>823936</th>\n",
       "      <td>7124</td>\n",
       "      <td>7064</td>\n",
       "    </tr>\n",
       "    <tr>\n",
       "      <th>738827</th>\n",
       "      <td>7158</td>\n",
       "      <td>7176</td>\n",
       "    </tr>\n",
       "    <tr>\n",
       "      <th>812654</th>\n",
       "      <td>7202</td>\n",
       "      <td>7049</td>\n",
       "    </tr>\n",
       "  </tbody>\n",
       "</table>\n",
       "</div>"
      ],
      "text/plain": [
       "         from_station_id  to_station_id\n",
       "trip_id                                \n",
       "729152              7061           7055\n",
       "806425              7161           7057\n",
       "823936              7124           7064\n",
       "738827              7158           7176\n",
       "812654              7202           7049"
      ]
     },
     "execution_count": 46,
     "metadata": {},
     "output_type": "execute_result"
    }
   ],
   "source": [
    "station_ids"
   ]
  },
  {
   "cell_type": "code",
   "execution_count": 48,
   "metadata": {},
   "outputs": [
    {
     "data": {
      "text/plain": [
       "array([0, 0, 0, 0, 0])"
      ]
     },
     "execution_count": 48,
     "metadata": {},
     "output_type": "execute_result"
    }
   ],
   "source": [
    "label_enc = LabelEncoder()\n",
    "y = label_enc.fit_transform(prepped['user_type'])\n"
   ]
  },
  {
   "cell_type": "code",
   "execution_count": null,
   "metadata": {},
   "outputs": [],
   "source": [
    "bikes_dt = prep_bikes(bikes)"
   ]
  },
  {
   "cell_type": "code",
   "execution_count": 79,
   "metadata": {},
   "outputs": [
    {
     "data": {
      "text/plain": [
       "Index(['trip_duration_seconds', 'from_station_id', 'to_station_id',\n",
       "       'user_type', 'day_of_week', 'start_hour', 'end_hour'],\n",
       "      dtype='object')"
      ]
     },
     "execution_count": 79,
     "metadata": {},
     "output_type": "execute_result"
    }
   ],
   "source": [
    "bikes_dt = bikes_dt.drop(['dt_start', 'dt_end'], axis=1)\n",
    "bikes_dt.columns"
   ]
  },
  {
   "cell_type": "code",
   "execution_count": null,
   "metadata": {},
   "outputs": [],
   "source": [
    "X, y = np.ones((50, 1)), np.hstack(([0] * 45, [1] * 5))\n",
    "X_train, X_test, y_train, y_test = train_test_split(\n",
    "    X, y,\n",
    "    test_size=0.25,\n",
    "    stratify=y,\n",
    "    )\n"
   ]
  },
  {
   "cell_type": "code",
   "execution_count": null,
   "metadata": {},
   "outputs": [
    {
     "name": "stdout",
     "output_type": "stream",
     "text": [
      "[33  4] [12  1]\n"
     ]
    }
   ],
   "source": [
    "print(np.bincount(y_train), np.bincount(y_test))"
   ]
  },
  {
   "cell_type": "markdown",
   "metadata": {},
   "source": [
    "Split to train/val/test.\n",
    "\n",
    "First split with `train_test_split` to get the hold-out set, then split the resulting training set via `StratifiedKfold`"
   ]
  },
  {
   "cell_type": "code",
   "execution_count": 80,
   "metadata": {},
   "outputs": [],
   "source": [
    "# split to train/test.\n",
    "\n",
    "X = bikes_dt.drop('user_type', axis=1)\n",
    "y = bikes_dt['user_type']\n",
    "X_train, X_test, y_train, y_test = train_test_split(\n",
    "    X, y,\n",
    "    test_size=0.25,\n",
    "    stratify=y,\n",
    "    )"
   ]
  },
  {
   "cell_type": "markdown",
   "metadata": {},
   "source": [
    "Need `ColumnTransformer` to include one-hot encode of only select columns in a pipeline"
   ]
  },
  {
   "cell_type": "code",
   "execution_count": 81,
   "metadata": {},
   "outputs": [
    {
     "data": {
      "text/html": [
       "<style>#sk-container-id-4 {color: black;background-color: white;}#sk-container-id-4 pre{padding: 0;}#sk-container-id-4 div.sk-toggleable {background-color: white;}#sk-container-id-4 label.sk-toggleable__label {cursor: pointer;display: block;width: 100%;margin-bottom: 0;padding: 0.3em;box-sizing: border-box;text-align: center;}#sk-container-id-4 label.sk-toggleable__label-arrow:before {content: \"▸\";float: left;margin-right: 0.25em;color: #696969;}#sk-container-id-4 label.sk-toggleable__label-arrow:hover:before {color: black;}#sk-container-id-4 div.sk-estimator:hover label.sk-toggleable__label-arrow:before {color: black;}#sk-container-id-4 div.sk-toggleable__content {max-height: 0;max-width: 0;overflow: hidden;text-align: left;background-color: #f0f8ff;}#sk-container-id-4 div.sk-toggleable__content pre {margin: 0.2em;color: black;border-radius: 0.25em;background-color: #f0f8ff;}#sk-container-id-4 input.sk-toggleable__control:checked~div.sk-toggleable__content {max-height: 200px;max-width: 100%;overflow: auto;}#sk-container-id-4 input.sk-toggleable__control:checked~label.sk-toggleable__label-arrow:before {content: \"▾\";}#sk-container-id-4 div.sk-estimator input.sk-toggleable__control:checked~label.sk-toggleable__label {background-color: #d4ebff;}#sk-container-id-4 div.sk-label input.sk-toggleable__control:checked~label.sk-toggleable__label {background-color: #d4ebff;}#sk-container-id-4 input.sk-hidden--visually {border: 0;clip: rect(1px 1px 1px 1px);clip: rect(1px, 1px, 1px, 1px);height: 1px;margin: -1px;overflow: hidden;padding: 0;position: absolute;width: 1px;}#sk-container-id-4 div.sk-estimator {font-family: monospace;background-color: #f0f8ff;border: 1px dotted black;border-radius: 0.25em;box-sizing: border-box;margin-bottom: 0.5em;}#sk-container-id-4 div.sk-estimator:hover {background-color: #d4ebff;}#sk-container-id-4 div.sk-parallel-item::after {content: \"\";width: 100%;border-bottom: 1px solid gray;flex-grow: 1;}#sk-container-id-4 div.sk-label:hover label.sk-toggleable__label {background-color: #d4ebff;}#sk-container-id-4 div.sk-serial::before {content: \"\";position: absolute;border-left: 1px solid gray;box-sizing: border-box;top: 0;bottom: 0;left: 50%;z-index: 0;}#sk-container-id-4 div.sk-serial {display: flex;flex-direction: column;align-items: center;background-color: white;padding-right: 0.2em;padding-left: 0.2em;position: relative;}#sk-container-id-4 div.sk-item {position: relative;z-index: 1;}#sk-container-id-4 div.sk-parallel {display: flex;align-items: stretch;justify-content: center;background-color: white;position: relative;}#sk-container-id-4 div.sk-item::before, #sk-container-id-4 div.sk-parallel-item::before {content: \"\";position: absolute;border-left: 1px solid gray;box-sizing: border-box;top: 0;bottom: 0;left: 50%;z-index: -1;}#sk-container-id-4 div.sk-parallel-item {display: flex;flex-direction: column;z-index: 1;position: relative;background-color: white;}#sk-container-id-4 div.sk-parallel-item:first-child::after {align-self: flex-end;width: 50%;}#sk-container-id-4 div.sk-parallel-item:last-child::after {align-self: flex-start;width: 50%;}#sk-container-id-4 div.sk-parallel-item:only-child::after {width: 0;}#sk-container-id-4 div.sk-dashed-wrapped {border: 1px dashed gray;margin: 0 0.4em 0.5em 0.4em;box-sizing: border-box;padding-bottom: 0.4em;background-color: white;}#sk-container-id-4 div.sk-label label {font-family: monospace;font-weight: bold;display: inline-block;line-height: 1.2em;}#sk-container-id-4 div.sk-label-container {text-align: center;}#sk-container-id-4 div.sk-container {/* jupyter's `normalize.less` sets `[hidden] { display: none; }` but bootstrap.min.css set `[hidden] { display: none !important; }` so we also need the `!important` here to be able to override the default hidden behavior on the sphinx rendered scikit-learn.org. See: https://github.com/scikit-learn/scikit-learn/issues/21755 */display: inline-block !important;position: relative;}#sk-container-id-4 div.sk-text-repr-fallback {display: none;}</style><div id=\"sk-container-id-4\" class=\"sk-top-container\"><div class=\"sk-text-repr-fallback\"><pre>ColumnTransformer(remainder=&#x27;passthrough&#x27;,\n",
       "                  transformers=[(&#x27;onehotencoder-1&#x27;, OneHotEncoder(),\n",
       "                                 [&#x27;from_station_id&#x27;]),\n",
       "                                (&#x27;onehotencoder-2&#x27;, OneHotEncoder(),\n",
       "                                 [&#x27;to_station_id&#x27;])])</pre><b>In a Jupyter environment, please rerun this cell to show the HTML representation or trust the notebook. <br />On GitHub, the HTML representation is unable to render, please try loading this page with nbviewer.org.</b></div><div class=\"sk-container\" hidden><div class=\"sk-item sk-dashed-wrapped\"><div class=\"sk-label-container\"><div class=\"sk-label sk-toggleable\"><input class=\"sk-toggleable__control sk-hidden--visually\" id=\"sk-estimator-id-16\" type=\"checkbox\" ><label for=\"sk-estimator-id-16\" class=\"sk-toggleable__label sk-toggleable__label-arrow\">ColumnTransformer</label><div class=\"sk-toggleable__content\"><pre>ColumnTransformer(remainder=&#x27;passthrough&#x27;,\n",
       "                  transformers=[(&#x27;onehotencoder-1&#x27;, OneHotEncoder(),\n",
       "                                 [&#x27;from_station_id&#x27;]),\n",
       "                                (&#x27;onehotencoder-2&#x27;, OneHotEncoder(),\n",
       "                                 [&#x27;to_station_id&#x27;])])</pre></div></div></div><div class=\"sk-parallel\"><div class=\"sk-parallel-item\"><div class=\"sk-item\"><div class=\"sk-label-container\"><div class=\"sk-label sk-toggleable\"><input class=\"sk-toggleable__control sk-hidden--visually\" id=\"sk-estimator-id-17\" type=\"checkbox\" ><label for=\"sk-estimator-id-17\" class=\"sk-toggleable__label sk-toggleable__label-arrow\">onehotencoder-1</label><div class=\"sk-toggleable__content\"><pre>[&#x27;from_station_id&#x27;]</pre></div></div></div><div class=\"sk-serial\"><div class=\"sk-item\"><div class=\"sk-estimator sk-toggleable\"><input class=\"sk-toggleable__control sk-hidden--visually\" id=\"sk-estimator-id-18\" type=\"checkbox\" ><label for=\"sk-estimator-id-18\" class=\"sk-toggleable__label sk-toggleable__label-arrow\">OneHotEncoder</label><div class=\"sk-toggleable__content\"><pre>OneHotEncoder()</pre></div></div></div></div></div></div><div class=\"sk-parallel-item\"><div class=\"sk-item\"><div class=\"sk-label-container\"><div class=\"sk-label sk-toggleable\"><input class=\"sk-toggleable__control sk-hidden--visually\" id=\"sk-estimator-id-19\" type=\"checkbox\" ><label for=\"sk-estimator-id-19\" class=\"sk-toggleable__label sk-toggleable__label-arrow\">onehotencoder-2</label><div class=\"sk-toggleable__content\"><pre>[&#x27;to_station_id&#x27;]</pre></div></div></div><div class=\"sk-serial\"><div class=\"sk-item\"><div class=\"sk-estimator sk-toggleable\"><input class=\"sk-toggleable__control sk-hidden--visually\" id=\"sk-estimator-id-20\" type=\"checkbox\" ><label for=\"sk-estimator-id-20\" class=\"sk-toggleable__label sk-toggleable__label-arrow\">OneHotEncoder</label><div class=\"sk-toggleable__content\"><pre>OneHotEncoder()</pre></div></div></div></div></div></div><div class=\"sk-parallel-item\"><div class=\"sk-item\"><div class=\"sk-label-container\"><div class=\"sk-label sk-toggleable\"><input class=\"sk-toggleable__control sk-hidden--visually\" id=\"sk-estimator-id-21\" type=\"checkbox\" ><label for=\"sk-estimator-id-21\" class=\"sk-toggleable__label sk-toggleable__label-arrow\">remainder</label><div class=\"sk-toggleable__content\"><pre>[&#x27;trip_duration_seconds&#x27;, &#x27;day_of_week&#x27;, &#x27;start_hour&#x27;, &#x27;end_hour&#x27;]</pre></div></div></div><div class=\"sk-serial\"><div class=\"sk-item\"><div class=\"sk-estimator sk-toggleable\"><input class=\"sk-toggleable__control sk-hidden--visually\" id=\"sk-estimator-id-22\" type=\"checkbox\" ><label for=\"sk-estimator-id-22\" class=\"sk-toggleable__label sk-toggleable__label-arrow\">passthrough</label><div class=\"sk-toggleable__content\"><pre>passthrough</pre></div></div></div></div></div></div></div></div></div></div>"
      ],
      "text/plain": [
       "ColumnTransformer(remainder='passthrough',\n",
       "                  transformers=[('onehotencoder-1', OneHotEncoder(),\n",
       "                                 ['from_station_id']),\n",
       "                                ('onehotencoder-2', OneHotEncoder(),\n",
       "                                 ['to_station_id'])])"
      ]
     },
     "execution_count": 81,
     "metadata": {},
     "output_type": "execute_result"
    }
   ],
   "source": [
    "from sklearn.compose import make_column_transformer\n",
    "\n",
    "# enc = OneHotEncoder()\n",
    "col_trans = make_column_transformer(\n",
    "    (OneHotEncoder(), ['from_station_id']),\n",
    "    (OneHotEncoder(), ['to_station_id']),\n",
    "    # remainder='drop',\n",
    "    remainder='passthrough',\n",
    ")\n",
    "col_trans.fit(X_train)"
   ]
  },
  {
   "cell_type": "code",
   "execution_count": 82,
   "metadata": {},
   "outputs": [
    {
     "data": {
      "text/plain": [
       "(33031, 404)"
      ]
     },
     "execution_count": 82,
     "metadata": {},
     "output_type": "execute_result"
    }
   ],
   "source": [
    "foo = col_trans.transform(X_test)\n",
    "foo.toarray().shape"
   ]
  },
  {
   "cell_type": "code",
   "execution_count": null,
   "metadata": {},
   "outputs": [],
   "source": []
  }
 ],
 "metadata": {
  "kernelspec": {
   "display_name": "Python 3.9.12 ('to-bikes-FA3MNQSM')",
   "language": "python",
   "name": "python3"
  },
  "language_info": {
   "codemirror_mode": {
    "name": "ipython",
    "version": 3
   },
   "file_extension": ".py",
   "mimetype": "text/x-python",
   "name": "python",
   "nbconvert_exporter": "python",
   "pygments_lexer": "ipython3",
   "version": "3.9.12"
  },
  "orig_nbformat": 4,
  "vscode": {
   "interpreter": {
    "hash": "84462622fa96bfe62b0062acf35e339bb5910b6bf56fae9e067a004230b5b792"
   }
  }
 },
 "nbformat": 4,
 "nbformat_minor": 2
}
