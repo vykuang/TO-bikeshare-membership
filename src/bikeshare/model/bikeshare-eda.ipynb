{
 "cells": [
  {
   "cell_type": "markdown",
   "metadata": {},
   "source": [
    "# Toronto Bikeshare Data\n",
    "\n",
    "[Bikeshare data source](https://open.toronto.ca/dataset/bike-share-toronto-ridership-data/)\n",
    "\n",
    "## What the data looks like\n",
    "\n",
    "This open dataset is an anonymized log of all bikeshare trips taken in Toronto. The fields include\n",
    "\n",
    "* start time\n",
    "* end time\n",
    "* duration\n",
    "* station A ID\n",
    "* station B ID\n",
    "* user type\n",
    "\n",
    "The dataset is partitioned by quarters; each quarter a 3 month segment, starting from 1/1. I will be using the Q3 data from 2017 to 2019. By using only Q3 data, I will try to avoid seasonality and remove the effect from my model. Alternatively I could append a new column, denoting the seasonality. \n",
    "\n",
    "If I do incorporate seasonality, \n",
    "\n",
    "* I could use 2017 and training, 2018 as validation, and test on a sampling of 2019.\n",
    "* Size of files could be an issue. I might have to subsample\n",
    "\n",
    "If I don't,\n",
    "\n",
    "* Focus solely on Q3 of each year.\n",
    "* Let's start with that, and leave seasonality for future development"
   ]
  },
  {
   "cell_type": "code",
   "execution_count": 5,
   "metadata": {},
   "outputs": [],
   "source": [
    "import pandas as pd\n",
    "from pathlib import Path\n",
    "import os"
   ]
  },
  {
   "cell_type": "code",
   "execution_count": 9,
   "metadata": {},
   "outputs": [],
   "source": [
    "csv_path = Path.cwd().parent / 'data' / 'bikeshare-2017-q1.csv'\n",
    "bikes = pd.read_csv(csv_path)"
   ]
  },
  {
   "cell_type": "code",
   "execution_count": 10,
   "metadata": {},
   "outputs": [
    {
     "data": {
      "text/html": [
       "<div>\n",
       "<style scoped>\n",
       "    .dataframe tbody tr th:only-of-type {\n",
       "        vertical-align: middle;\n",
       "    }\n",
       "\n",
       "    .dataframe tbody tr th {\n",
       "        vertical-align: top;\n",
       "    }\n",
       "\n",
       "    .dataframe thead th {\n",
       "        text-align: right;\n",
       "    }\n",
       "</style>\n",
       "<table border=\"1\" class=\"dataframe\">\n",
       "  <thead>\n",
       "    <tr style=\"text-align: right;\">\n",
       "      <th></th>\n",
       "      <th>trip_id</th>\n",
       "      <th>trip_duration_seconds</th>\n",
       "      <th>from_station_id</th>\n",
       "      <th>to_station_id</th>\n",
       "    </tr>\n",
       "  </thead>\n",
       "  <tbody>\n",
       "    <tr>\n",
       "      <th>count</th>\n",
       "      <td>132123.000000</td>\n",
       "      <td>132123.000000</td>\n",
       "      <td>132123.000000</td>\n",
       "      <td>132123.000000</td>\n",
       "    </tr>\n",
       "    <tr>\n",
       "      <th>mean</th>\n",
       "      <td>790709.586393</td>\n",
       "      <td>677.281836</td>\n",
       "      <td>7072.742195</td>\n",
       "      <td>7071.681221</td>\n",
       "    </tr>\n",
       "    <tr>\n",
       "      <th>std</th>\n",
       "      <td>45224.004246</td>\n",
       "      <td>639.276795</td>\n",
       "      <td>58.620039</td>\n",
       "      <td>57.817939</td>\n",
       "    </tr>\n",
       "    <tr>\n",
       "      <th>min</th>\n",
       "      <td>712382.000000</td>\n",
       "      <td>60.000000</td>\n",
       "      <td>7000.000000</td>\n",
       "      <td>7000.000000</td>\n",
       "    </tr>\n",
       "    <tr>\n",
       "      <th>25%</th>\n",
       "      <td>751545.500000</td>\n",
       "      <td>372.000000</td>\n",
       "      <td>7027.000000</td>\n",
       "      <td>7027.000000</td>\n",
       "    </tr>\n",
       "    <tr>\n",
       "      <th>50%</th>\n",
       "      <td>790504.000000</td>\n",
       "      <td>559.000000</td>\n",
       "      <td>7056.000000</td>\n",
       "      <td>7056.000000</td>\n",
       "    </tr>\n",
       "    <tr>\n",
       "      <th>75%</th>\n",
       "      <td>829922.500000</td>\n",
       "      <td>830.000000</td>\n",
       "      <td>7113.000000</td>\n",
       "      <td>7107.000000</td>\n",
       "    </tr>\n",
       "    <tr>\n",
       "      <th>max</th>\n",
       "      <td>868705.000000</td>\n",
       "      <td>14386.000000</td>\n",
       "      <td>7216.000000</td>\n",
       "      <td>7216.000000</td>\n",
       "    </tr>\n",
       "  </tbody>\n",
       "</table>\n",
       "</div>"
      ],
      "text/plain": [
       "             trip_id  trip_duration_seconds  from_station_id  to_station_id\n",
       "count  132123.000000          132123.000000    132123.000000  132123.000000\n",
       "mean   790709.586393             677.281836      7072.742195    7071.681221\n",
       "std     45224.004246             639.276795        58.620039      57.817939\n",
       "min    712382.000000              60.000000      7000.000000    7000.000000\n",
       "25%    751545.500000             372.000000      7027.000000    7027.000000\n",
       "50%    790504.000000             559.000000      7056.000000    7056.000000\n",
       "75%    829922.500000             830.000000      7113.000000    7107.000000\n",
       "max    868705.000000           14386.000000      7216.000000    7216.000000"
      ]
     },
     "execution_count": 10,
     "metadata": {},
     "output_type": "execute_result"
    }
   ],
   "source": [
    "bikes.describe()"
   ]
  },
  {
   "cell_type": "code",
   "execution_count": 11,
   "metadata": {},
   "outputs": [
    {
     "data": {
      "text/plain": [
       "Index(['trip_id', 'trip_start_time', 'trip_stop_time', 'trip_duration_seconds',\n",
       "       'from_station_id', 'from_station_name', 'to_station_id',\n",
       "       'to_station_name', 'user_type'],\n",
       "      dtype='object')"
      ]
     },
     "execution_count": 11,
     "metadata": {},
     "output_type": "execute_result"
    }
   ],
   "source": [
    "bikes.columns"
   ]
  },
  {
   "cell_type": "code",
   "execution_count": 12,
   "metadata": {},
   "outputs": [
    {
     "name": "stdout",
     "output_type": "stream",
     "text": [
      "membership %: 94.9971%\n",
      "casual %: 5.0029%\n"
     ]
    }
   ],
   "source": [
    "members = sum(bikes['user_type'] == 'Member') / len(bikes['user_type'])\n",
    "cash = 1. - members\n",
    "print(f'membership %: {members:.4%}\\ncasual %: {cash:.4%}')"
   ]
  },
  {
   "cell_type": "markdown",
   "metadata": {},
   "source": [
    "Average member ride duration vs casual?"
   ]
  },
  {
   "cell_type": "code",
   "execution_count": 14,
   "metadata": {},
   "outputs": [
    {
     "data": {
      "text/plain": [
       "count    125513.000000\n",
       "mean        623.792986\n",
       "std         388.434959\n",
       "min          60.000000\n",
       "25%         365.000000\n",
       "50%         545.000000\n",
       "75%         800.000000\n",
       "max       14071.000000\n",
       "Name: trip_duration_seconds, dtype: float64"
      ]
     },
     "execution_count": 14,
     "metadata": {},
     "output_type": "execute_result"
    }
   ],
   "source": [
    "member_rides = bikes[bikes['user_type'] == 'Member']\n",
    "cash_rides = bikes[bikes['user_type'] == 'Casual']\n",
    "member_rides['trip_duration_seconds'].describe()"
   ]
  },
  {
   "cell_type": "code",
   "execution_count": 15,
   "metadata": {},
   "outputs": [
    {
     "data": {
      "text/plain": [
       "count     6610.000000\n",
       "mean      1692.946899\n",
       "std       2053.883558\n",
       "min         61.000000\n",
       "25%        687.250000\n",
       "50%       1065.000000\n",
       "75%       1621.750000\n",
       "max      14386.000000\n",
       "Name: trip_duration_seconds, dtype: float64"
      ]
     },
     "execution_count": 15,
     "metadata": {},
     "output_type": "execute_result"
    }
   ],
   "source": [
    "cash_rides['trip_duration_seconds'].describe()"
   ]
  },
  {
   "cell_type": "markdown",
   "metadata": {},
   "source": [
    "Could we see the distribution? Perhaps in a violin plot?"
   ]
  },
  {
   "cell_type": "code",
   "execution_count": 16,
   "metadata": {},
   "outputs": [],
   "source": [
    "from matplotlib import pyplot as plt"
   ]
  },
  {
   "cell_type": "code",
   "execution_count": 24,
   "metadata": {},
   "outputs": [
    {
     "data": {
      "text/plain": [
       "Text(0.5, 1.0, 'Casual rides')"
      ]
     },
     "execution_count": 24,
     "metadata": {},
     "output_type": "execute_result"
    },
    {
     "data": {
      "image/png": "[encoded data removed]",
      "text/plain": [
       "<Figure size 720x504 with 2 Axes>"
      ]
     },
     "metadata": {
      "needs_background": "light"
     },
     "output_type": "display_data"
    }
   ],
   "source": [
    "fig, axs = plt.subplots(nrows=1, ncols=2, figsize=(10,7))\n",
    "axs[0].violinplot(\n",
    "    dataset=member_rides['trip_duration_seconds'].values,\n",
    "    showextrema=False)\n",
    "axs[0].set_title('Membership ride duration')\n",
    "\n",
    "axs[1].violinplot(\n",
    "    dataset=cash_rides['trip_duration_seconds'].values,\n",
    "    showextrema=False)\n",
    "axs[1].set_title('Casual rides')"
   ]
  },
  {
   "cell_type": "markdown",
   "metadata": {},
   "source": [
    "I think it's workable. Obviously casual rides have a significant tail skew but the bulge is not so significantly divergent from members that it's trivial to determine whether the rider is member or casual based solely on ride duration. I think we have a binary classification problem on our hands.\n",
    "\n",
    "Model candidates:\n",
    "\n",
    "* Logistic regression\n",
    "* Random forest"
   ]
  }
 ],
 "metadata": {
  "kernelspec": {
   "display_name": "Python 3.9.12 ('to-bikes-FA3MNQSM')",
   "language": "python",
   "name": "python3"
  },
  "language_info": {
   "codemirror_mode": {
    "name": "ipython",
    "version": 3
   },
   "file_extension": ".py",
   "mimetype": "text/x-python",
   "name": "python",
   "nbconvert_exporter": "python",
   "pygments_lexer": "ipython3",
   "version": "3.9.12"
  },
  "orig_nbformat": 4,
  "vscode": {
   "interpreter": {
    "hash": "84462622fa96bfe62b0062acf35e339bb5910b6bf56fae9e067a004230b5b792"
   }
  }
 },
 "nbformat": 4,
 "nbformat_minor": 2
}
